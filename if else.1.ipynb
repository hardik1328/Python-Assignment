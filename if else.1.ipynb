{
 "cells": [
  {
   "cell_type": "markdown",
   "id": "4ab6be0d-8491-45ec-9ed7-d38ad5428d11",
   "metadata": {},
   "source": [
    "# Q1 Write a program that takes an integer input from the user and checks whether the number is odd or \n",
    "even."
   ]
  },
  {
   "cell_type": "code",
   "execution_count": 7,
   "id": "93303807-6e45-44a4-b434-9f860aceb78e",
   "metadata": {},
   "outputs": [
    {
     "name": "stdin",
     "output_type": "stream",
     "text": [
      "enter the number: 13\n"
     ]
    },
    {
     "name": "stdout",
     "output_type": "stream",
     "text": [
      "odd\n"
     ]
    }
   ],
   "source": [
    "a = int(input(\"enter the number:\"))\n",
    "if(a%2==0):\n",
    "    print(\"even\")\n",
    "else:\n",
    "    print(\"odd\")\n"
   ]
  },
  {
   "cell_type": "markdown",
   "id": "120aacb0-59f5-485c-8484-3d14c29e9607",
   "metadata": {},
   "source": [
    "# Q:2  Write a program that takes three numbers as input and prints the largest of the three."
   ]
  },
  {
   "cell_type": "code",
   "execution_count": 9,
   "id": "bad82180-04da-443d-8b8a-455c0dbef0e8",
   "metadata": {},
   "outputs": [
    {
     "name": "stdout",
     "output_type": "stream",
     "text": [
      "c is greater\n"
     ]
    }
   ],
   "source": [
    "a = 12 \n",
    "b = 23 \n",
    "c = 45\n",
    "if(a>b and a>c):\n",
    "    print(\"a is greater\")\n",
    "elif(b>a and b>c):\n",
    "    print(\"b is greater\")\n",
    "else:\n",
    "    print(\"c is greater\")"
   ]
  },
  {
   "cell_type": "markdown",
   "id": "c1b3d5b1-cd6b-404c-ac5d-873734b59922",
   "metadata": {},
   "source": [
    "# Q:3 Write a program to check if a given year is a leap year. A leap year is divisible by 4 but not by 100\r",
    "#     \n",
    "unless it is also divisible by 400."
   ]
  },
  {
   "cell_type": "code",
   "execution_count": 15,
   "id": "3d141605-7f3b-4ab2-8854-ef291e3bbcfb",
   "metadata": {},
   "outputs": [
    {
     "name": "stdin",
     "output_type": "stream",
     "text": [
      "enter the year: 2020\n"
     ]
    },
    {
     "name": "stdout",
     "output_type": "stream",
     "text": [
      "it is a leap year\n"
     ]
    }
   ],
   "source": [
    "var = int(input(\"enter the year:\"))\n",
    "if(var%4==0 and var%100!=0) or (var %400==0):\n",
    "    print(\"it is a leap year\")\n",
    "else:\n",
    "    print(\"input not valid\")"
   ]
  },
  {
   "cell_type": "markdown",
   "id": "7a85d9f1-7942-4b9e-bcef-6ad52e873507",
   "metadata": {},
   "source": [
    "# Q:4 Write a program that takes a percentage (integer) as input and prints the corresponding grade based\r",
    "# \n",
    "# on the following criteria:# \r",
    "# \n",
    ">= 90: Grade # A# \r\n",
    ">= 80: Grade#  # B\r\n",
    ">= 70: Grad# e#  C\r\n",
    ">= 60: Gra# d# e D\r\n",
    "< 60: Grade F"
   ]
  },
  {
   "cell_type": "code",
   "execution_count": 19,
   "id": "5c1db1c7-a48c-4c30-8a8c-ffbec1c082ab",
   "metadata": {},
   "outputs": [
    {
     "name": "stdin",
     "output_type": "stream",
     "text": [
      "enter the percentage: 45\n"
     ]
    },
    {
     "name": "stdout",
     "output_type": "stream",
     "text": [
      "Grade F\n"
     ]
    }
   ],
   "source": [
    "a = int(input(\"enter the percentage:\"))\n",
    "if(a>=90):\n",
    "    print(\"Grade A \")\n",
    "elif(a>=80):\n",
    "    print(\"Grade B\")\n",
    "elif(a>=70):\n",
    "    print(\"Grade C\")\n",
    "elif(a>=60):\n",
    "    print(\"Grade D\")\n",
    "elif(a<60):\n",
    "    print(\"Grade F\")\n",
    "else:\n",
    "    print(\"input not valid\")"
   ]
  },
  {
   "cell_type": "markdown",
   "id": "42594b2f-edda-4146-a412-a0b22ce7e865",
   "metadata": {},
   "source": [
    "# Q:5 Write a program that checks if a given letter is a vowel (a, e, i, o, u) or a consonant."
   ]
  },
  {
   "cell_type": "code",
   "execution_count": 31,
   "id": "c8535af6-0015-4736-b052-9360a00608bf",
   "metadata": {},
   "outputs": [
    {
     "name": "stdin",
     "output_type": "stream",
     "text": [
      "enter the character: d\n"
     ]
    },
    {
     "name": "stdout",
     "output_type": "stream",
     "text": [
      "consonant\n"
     ]
    }
   ],
   "source": [
    "a = input(\"enter the character:\")\n",
    "if(a=='a' or a=='e' or a=='i' or a=='o' or a=='u'):\n",
    "    print(\"VOWELS\")\n",
    "else:\n",
    "    print(\"consonant\")"
   ]
  },
  {
   "cell_type": "markdown",
   "id": "6236aded-eced-4d09-9ddc-3af1d41a3c14",
   "metadata": {},
   "source": [
    "# Q:6  Write a basic calculator program that takes two numbers and an operator (+, -, *, /) as input and\r",
    "#      performs the specified operation. Print the result based on the operation."
   ]
  },
  {
   "cell_type": "code",
   "execution_count": 39,
   "id": "0d582daa-a7e7-4396-b229-f31d0831fefc",
   "metadata": {},
   "outputs": [
    {
     "name": "stdin",
     "output_type": "stream",
     "text": [
      "enter the first number: 12345\n",
      "enter the second number: 4634394\n",
      "enter the operator (+,-,/,*):  *\n"
     ]
    },
    {
     "name": "stdout",
     "output_type": "stream",
     "text": [
      "result 57211593930.0\n"
     ]
    }
   ],
   "source": [
    "a = float(input(\"enter the first number:\"))\n",
    "b = float(input(\"enter the second number:\"))\n",
    "operator = input(\"enter the operator (+,-,/,*): \")\n",
    "if(operator =='+'):\n",
    "    print(\"result\",a+b)\n",
    "elif(operator == '-'):\n",
    "    print(\"result\", a-b)\n",
    "elif(operator == '/'):\n",
    "    print(\"result\", a/b)\n",
    "elif(operator == '*'):\n",
    "    print(\"result\",a*b)\n",
    "else:\n",
    "    print(\"input is not valid\")"
   ]
  },
  {
   "cell_type": "markdown",
   "id": "6fcf7364-1e83-4417-88e0-184aa3d333ec",
   "metadata": {},
   "source": [
    "# Q:7 Write a program that takes a number as input and checks whether it is positive, negative, or zero."
   ]
  },
  {
   "cell_type": "code",
   "execution_count": 45,
   "id": "9ee5a93e-ceeb-4ab2-9a41-bab075506179",
   "metadata": {},
   "outputs": [
    {
     "name": "stdin",
     "output_type": "stream",
     "text": [
      "enter the number: 0\n"
     ]
    },
    {
     "name": "stdout",
     "output_type": "stream",
     "text": [
      "the number is zero \n"
     ]
    }
   ],
   "source": [
    "a = int(input(\"enter the number:\"))\n",
    "if(a>0):\n",
    "    print(\"the number is positive:\")\n",
    "elif(a<0):\n",
    "    print(\"the number is negative:\")\n",
    "else:\n",
    "    print(\"the number is zero \")"
   ]
  },
  {
   "cell_type": "markdown",
   "id": "5361104d-7d02-472c-9ebc-8f0ea69f5fb4",
   "metadata": {},
   "source": [
    "# Q:8 Write a program that checks if a username and password entered by the user match the pre-set values\r",
    "#     \n",
    "username = \"admin\" and password = \"1234\". If both match, print \"Login Successful\", otherwise print#     \r\n",
    "\"Login Failed\"."
   ]
  },
  {
   "cell_type": "code",
   "execution_count": 51,
   "id": "410bfa4d-13a4-49cf-853a-c0651e23204f",
   "metadata": {},
   "outputs": [
    {
     "name": "stdin",
     "output_type": "stream",
     "text": [
      "enter username: admin\n",
      "enter the password: 1234\n"
     ]
    },
    {
     "name": "stdout",
     "output_type": "stream",
     "text": [
      "login successful\n"
     ]
    }
   ],
   "source": [
    "username = input(\"enter username:\")\n",
    "password = int(input(\"enter the password:\"))\n",
    "if(username == 'admin' and password == 1234):\n",
    "    print(\"login successful\")\n",
    "else:\n",
    "    print(\"login failed\")\n"
   ]
  },
  {
   "cell_type": "markdown",
   "id": "fa85d2ae-4818-4f3c-abb5-2768a049fe44",
   "metadata": {},
   "source": [
    "# Q:9 Write a program that takes three sides of a triangle as input and checks if those sides form a valid\r",
    "#     \n",
    "triangle. A triangle is valid if the sum of any two sides is greater than the third side.#     \r\n",
    "Check conditions like a + b > c, b + c > a, and a + c > b."
   ]
  },
  {
   "cell_type": "code",
   "execution_count": 59,
   "id": "ceae25d6-aa84-4a95-99f7-01129ea3c6a5",
   "metadata": {},
   "outputs": [
    {
     "name": "stdout",
     "output_type": "stream",
     "text": [
      "it is triangle\n"
     ]
    }
   ],
   "source": [
    "a = 12\n",
    "b = 34\n",
    "c = 45\n",
    "if(a + b > c) and (b + c > a) and (a + c > b):\n",
    "    print(\"it is triangle\")\n",
    "\n",
    "else:\n",
    "    print(\"input not valid\")\n"
   ]
  },
  {
   "cell_type": "markdown",
   "id": "01d658a1-4e51-4f14-ac23-5763ff02686d",
   "metadata": {},
   "source": [
    "# Q:10 Write a program that calculates the Body Mass Index (BMI) based on user input for weight (in\r",
    "#      \n",
    "kilograms) and height (in meters). Then categorize the BMI into\n",
    "Underweight (BMI < 18.5)\r\n",
    "Normal weight (18.5 <= BMI < 24.9)\r\n",
    "Overweight (25 <= BMI < 29.9)\r\n",
    "Obesity (BMI >= 30)\r\n",
    "Use the formula: BMI = weight / (height ** 2):"
   ]
  },
  {
   "cell_type": "code",
   "execution_count": 3,
   "id": "f153498b-ac77-4e3b-99bd-6bb51481c3fb",
   "metadata": {},
   "outputs": [
    {
     "name": "stdin",
     "output_type": "stream",
     "text": [
      "enter the number: 70\n",
      "enter  the number: 1.8\n"
     ]
    },
    {
     "name": "stdout",
     "output_type": "stream",
     "text": [
      "normal weight\n"
     ]
    }
   ],
   "source": [
    "weight = int(input(\"enter the number:\"))\n",
    "height = float(input(\"enter  the number:\"))\n",
    "bmi = weight / (height**2)\n",
    "if(bmi < 18.5):\n",
    "    print(\"underweight\")\n",
    "elif(18.5 <= bmi < 24.9):\n",
    "    print(\"normal weight\")\n",
    "elif(25 <= bmi < 29.9):\n",
    "    print(\"overweight\")\n",
    "elif(bmi >= 30):\n",
    "    print(\"obesity\")\n",
    "else:\n",
    "    print(\"error\")\n",
    "    "
   ]
  },
  {
   "cell_type": "code",
   "execution_count": null,
   "id": "8e974b31-37aa-44a3-9ccd-a4a42b0719d3",
   "metadata": {},
   "outputs": [],
   "source": []
  }
 ],
 "metadata": {
  "kernelspec": {
   "display_name": "Python 3 (ipykernel)",
   "language": "python",
   "name": "python3"
  },
  "language_info": {
   "codemirror_mode": {
    "name": "ipython",
    "version": 3
   },
   "file_extension": ".py",
   "mimetype": "text/x-python",
   "name": "python",
   "nbconvert_exporter": "python",
   "pygments_lexer": "ipython3",
   "version": "3.12.4"
  }
 },
 "nbformat": 4,
 "nbformat_minor": 5
}
