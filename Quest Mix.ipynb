{
 "cells": [
  {
   "cell_type": "markdown",
   "id": "e6b142df-3b1b-465d-ba7d-a8e6fa3abe36",
   "metadata": {},
   "source": [
    "# list"
   ]
  },
  {
   "cell_type": "code",
   "execution_count": 2,
   "id": "b44e095a-3aed-46e7-8a42-f1fa7099c0ab",
   "metadata": {},
   "outputs": [],
   "source": [
    "# counting a duplicate values"
   ]
  },
  {
   "cell_type": "code",
   "execution_count": 20,
   "id": "f9ac885d-b4a6-46a2-919e-262e64168fbc",
   "metadata": {},
   "outputs": [
    {
     "name": "stdout",
     "output_type": "stream",
     "text": [
      "5\n"
     ]
    }
   ],
   "source": [
    "list = [10,20,30,10,40,10,20]\n",
    "x = 20\n",
    "count = 3\n",
    "for i in range(0,len(list)):\n",
    "    if(x==list[i]):\n",
    "        count += 1\n",
    "print(count)\n",
    "        \n",
    "    \n",
    "        "
   ]
  },
  {
   "cell_type": "code",
   "execution_count": 28,
   "id": "66267810-86de-45bb-80ee-261cffcf72b4",
   "metadata": {},
   "outputs": [
    {
     "name": "stdout",
     "output_type": "stream",
     "text": [
      "3\n"
     ]
    }
   ],
   "source": [
    "list = [10,20,30,10,40,10,20]\n",
    "x = list[0]                  # counting value with indexing\n",
    "count = 1\n",
    "for i in range(1,len(list)):\n",
    "    if(x==list[i]):\n",
    "        count += 1\n",
    "print(count)"
   ]
  },
  {
   "cell_type": "code",
   "execution_count": 46,
   "id": "f1ceb8f3-6da1-46f1-addd-1a8d439fd5a2",
   "metadata": {},
   "outputs": [
    {
     "name": "stdout",
     "output_type": "stream",
     "text": [
      "4\n"
     ]
    }
   ],
   "source": [
    "list = [10,20,30,10,40,10,20]\n",
    "count = 0\n",
    "for i in range(0,len(list)):                       # count of duplicate values\n",
    "    for j in range(i+2,len(list)):\n",
    "        if(list[i] == list[j]):\n",
    "            count += 1\n",
    "print(count)"
   ]
  },
  {
   "cell_type": "code",
   "execution_count": 50,
   "id": "ba669d13-8aa0-473b-bfd4-eecae6ea8f86",
   "metadata": {},
   "outputs": [
    {
     "name": "stdout",
     "output_type": "stream",
     "text": [
      "3\n"
     ]
    }
   ],
   "source": [
    "ls = [10,15,20,25,15,15]\n",
    "x = 15                             # count of duplicate values\n",
    "count = 0\n",
    "for i in ls:\n",
    "    if(x==i):\n",
    "        count+=1\n",
    "print(count)"
   ]
  },
  {
   "cell_type": "code",
   "execution_count": 62,
   "id": "b0504a09-5e61-4798-9dc2-7917aa0c582a",
   "metadata": {},
   "outputs": [
    {
     "name": "stdout",
     "output_type": "stream",
     "text": [
      "prime\n"
     ]
    }
   ],
   "source": [
    "num = 127\n",
    "x = 0                             # prime number\n",
    "for i in range(2,num):\n",
    "    if(num%i==0):\n",
    "        x = 1\n",
    "        break\n",
    "if(x==0):\n",
    "    print(\"prime\")\n",
    "else:\n",
    "    print(\"not a prime\")"
   ]
  },
  {
   "cell_type": "code",
   "execution_count": 74,
   "id": "418b4c1f-9935-4667-9454-2fa89e7c6457",
   "metadata": {},
   "outputs": [
    {
     "name": "stdout",
     "output_type": "stream",
     "text": [
      "not a valid number\n"
     ]
    }
   ],
   "source": [
    "ls = [0,1,2,4,7,14,28]\n",
    "target = 34\n",
    "for i in range(0,len(ls)):                            ## add a num with the help of two list values\n",
    "    for j in range(i+1,len(ls)):\n",
    "        if(ls[i] + ls[j] == target):\n",
    "            print(ls[i],ls[j])\n",
    "else:\n",
    "    print(\"not a valid number\")"
   ]
  },
  {
   "cell_type": "code",
   "execution_count": 96,
   "id": "09095e63-dbb7-45d6-b77b-fd30a2ed7641",
   "metadata": {},
   "outputs": [
    {
     "name": "stdout",
     "output_type": "stream",
     "text": [
      "----\n",
      "----\n",
      "2 4 7\n",
      "----\n",
      "----\n",
      "----\n",
      "----\n",
      "----\n"
     ]
    }
   ],
   "source": [
    "ls = [0,1,2,4,7,14,28]\n",
    "target = 13                                ## add a num with the help of two list values\n",
    "for i in range(0,len(ls)):\n",
    "    for j in range(i+1,len(ls)):\n",
    "        for k in range(j+1,len(ls)):\n",
    "            if(ls[i] + ls[j] + ls[k] == target):\n",
    "                print(ls[i],ls[j],ls[k])\n",
    "    print(\"----\")\n"
   ]
  },
  {
   "cell_type": "code",
   "execution_count": 100,
   "id": "f8d36e38-7607-4550-a1a8-2f115bace68c",
   "metadata": {},
   "outputs": [
    {
     "name": "stdout",
     "output_type": "stream",
     "text": [
      "1 5 8\n",
      "1 3 10\n",
      "1 5 8\n",
      "----\n",
      "----\n",
      "----\n",
      "----\n",
      "----\n",
      "----\n",
      "----\n"
     ]
    }
   ],
   "source": [
    "ls = [1,2,5,3,5,8,10]                       # add a num with the help of two list values\n",
    "target = 14\n",
    "for i in range(0,len(ls)):\n",
    "    for j in range(i+1,len(ls)):\n",
    "        for k in range(j+1,len(ls)):\n",
    "            if(ls[i] + ls[j] + ls[k] == target):\n",
    "                print(ls[i],ls[j],ls[k])\n",
    "    print(\"----\")\n"
   ]
  },
  {
   "cell_type": "code",
   "execution_count": 115,
   "id": "51eebbb9-fd2d-4a3a-87d7-95b484e682d6",
   "metadata": {},
   "outputs": [
    {
     "name": "stdout",
     "output_type": "stream",
     "text": [
      "0 14\n"
     ]
    }
   ],
   "source": [
    "ls = [0,1,2,4,7,14,28]\n",
    "start = 0                                # two pointer approach\n",
    "end = len(ls)-1\n",
    "target = 14\n",
    "while(start < end):\n",
    "    if(ls[start] + ls[end] == target):\n",
    "        print(ls[start] , ls[end])\n",
    "        break\n",
    "    elif(ls[start] + ls[end] > target):\n",
    "        end -= 1\n",
    "    else:\n",
    "        start += 1"
   ]
  },
  {
   "cell_type": "code",
   "execution_count": 137,
   "id": "20ef2bd2-9351-4fcb-ae01-ed5b36a92af5",
   "metadata": {},
   "outputs": [
    {
     "name": "stdout",
     "output_type": "stream",
     "text": [
      "v v\n"
     ]
    }
   ],
   "source": [
    "var = 'vv'                     # concurrrent string 1\n",
    "s = 0\n",
    "st = len(var) - 1\n",
    "\n",
    "while s < st:\n",
    "    if var[s] == var[st]:\n",
    "        print(var[s], var[st])\n",
    "        break\n",
    "    else:\n",
    "        s += 1\n",
    "        st -= 1\n",
    "else:\n",
    "    print(\"not repeat\")\n"
   ]
  },
  {
   "cell_type": "code",
   "execution_count": 141,
   "id": "d0fcb39b-aad2-4e5d-b40f-eb1663c95309",
   "metadata": {},
   "outputs": [
    {
     "name": "stdout",
     "output_type": "stream",
     "text": [
      "not\n"
     ]
    }
   ],
   "source": [
    "var = \"ab\"               # concurrrent string 2\n",
    "s = 0\n",
    "st = s+1\n",
    "while(s < st):\n",
    "    if(var[s] == var[st]):\n",
    "        print(\"concurent\")\n",
    "        break\n",
    "    else:\n",
    "        print(\"not\")\n",
    "        break"
   ]
  },
  {
   "cell_type": "markdown",
   "id": "21d2acb3-6267-4f22-bd52-735dee9e661d",
   "metadata": {},
   "source": [
    "# valid paranthesis"
   ]
  },
  {
   "cell_type": "code",
   "execution_count": 146,
   "id": "f6668d95-0279-47c3-ac88-465a9e03f756",
   "metadata": {},
   "outputs": [
    {
     "name": "stdout",
     "output_type": "stream",
     "text": [
      "valid\n"
     ]
    }
   ],
   "source": [
    "openb = []\n",
    "x = 0\n",
    "data = \"()\"\n",
    "for i in data:\n",
    "    if i==\"(\":\n",
    "        openb.append(i)\n",
    "    elif(openb):\n",
    "        if(i==\")\" and \"(\"==openb.pop()):\n",
    "            x=1\n",
    "    else:\n",
    "        x=0\n",
    "if(x==0 or len(openb) > 0 ):\n",
    "    print(\"invalid\")\n",
    "else:\n",
    "    print(\"valid\")"
   ]
  },
  {
   "cell_type": "markdown",
   "id": "cf5d2017-2b9a-43d8-999b-582aa2f83573",
   "metadata": {},
   "source": [
    "# practise previous"
   ]
  },
  {
   "cell_type": "code",
   "execution_count": 1,
   "id": "d7030a32-20d6-4a9d-95d0-23599abccc31",
   "metadata": {},
   "outputs": [
    {
     "name": "stdout",
     "output_type": "stream",
     "text": [
      "2\n"
     ]
    }
   ],
   "source": [
    "a = \"amanana\"\n",
    "\n",
    "c = 1\n",
    "\n",
    "for i in range(0,len(a)):\n",
    "    if(i==len(a)-1):\n",
    "        c += 1\n",
    "print(c)"
   ]
  },
  {
   "cell_type": "code",
   "execution_count": 7,
   "id": "880d36c4-f84b-4b73-9e0f-f7c37e55b8a0",
   "metadata": {},
   "outputs": [
    {
     "name": "stdout",
     "output_type": "stream",
     "text": [
      "7\n"
     ]
    }
   ],
   "source": [
    "ls = [10,20,30,10,40,10,20,20,30]\n",
    "count = 0\n",
    "for i in range(0,len(ls)):\n",
    "    for j in range(i+1,len(ls)):\n",
    "        if(ls[i] == ls[j]):\n",
    "            count += 1\n",
    "print(count)"
   ]
  },
  {
   "cell_type": "code",
   "execution_count": 11,
   "id": "c948ea32-dca4-4504-975d-afba0104eacf",
   "metadata": {},
   "outputs": [
    {
     "name": "stdout",
     "output_type": "stream",
     "text": [
      "not\n"
     ]
    }
   ],
   "source": [
    "n = 125\n",
    "x= 0 \n",
    "for i in range(2,n):\n",
    "    if(n%i==0):\n",
    "        x = 1\n",
    "        break\n",
    "if(x==0):\n",
    "    print(\"prime\")\n",
    "else:\n",
    "    print(\"not\")\n",
    "    "
   ]
  },
  {
   "cell_type": "code",
   "execution_count": 15,
   "id": "0dcde893-e612-47e1-8c7b-85c2a2151d9c",
   "metadata": {},
   "outputs": [
    {
     "name": "stdout",
     "output_type": "stream",
     "text": [
      "7 14\n"
     ]
    }
   ],
   "source": [
    "ls = [0,1,2,4,7,14,28]\n",
    "start=0\n",
    "end = len(ls)-1\n",
    "target = 21\n",
    "while(start < end):\n",
    "    if(ls[start] + ls[end] == target):\n",
    "        print(ls[start] , ls[end])\n",
    "        break\n",
    "    elif(ls[start] + ls[end] > target):\n",
    "        end -=1                   # Move right pointer left if sum too large\n",
    "    else:\n",
    "        start += 1                  # Move left pointer right if sum too small\n",
    "        "
   ]
  },
  {
   "cell_type": "code",
   "execution_count": 19,
   "id": "cb23d31c-2ebf-4eb3-8d23-a86a69fd2573",
   "metadata": {},
   "outputs": [
    {
     "name": "stdout",
     "output_type": "stream",
     "text": [
      "concurrent\n"
     ]
    }
   ],
   "source": [
    "var = \"aa\"\n",
    "s = 0\n",
    "s2 = s + 1\n",
    "while(s<s2):\n",
    "    if(var[s] == var[s2]):\n",
    "        print(\"concurrent\")\n",
    "        break\n",
    "    else:\n",
    "        print(\"not\")\n",
    "        break\n",
    "    "
   ]
  },
  {
   "cell_type": "code",
   "execution_count": 29,
   "id": "f7421e1b-d477-47bc-b02b-63ede7bbc136",
   "metadata": {},
   "outputs": [
    {
     "name": "stdout",
     "output_type": "stream",
     "text": [
      "valid\n"
     ]
    }
   ],
   "source": [
    "openb = []\n",
    "x = 0\n",
    "data = \"[]\"\n",
    "for char in data:\n",
    "    if char==\"[\":\n",
    "        openb.append(char)\n",
    "    elif(openb):\n",
    "        if(char==\"]\" and \"[\"==openb.pop()):\n",
    "            x = 1\n",
    "    else:\n",
    "        x =0\n",
    "if(x==0 or len(openb) > 0):\n",
    "    print(\"invalid\")\n",
    "else:\n",
    "    print(\"valid\")"
   ]
  },
  {
   "cell_type": "code",
   "execution_count": 45,
   "id": "5515c9a6-04c2-4ff8-8abc-b2f651cab718",
   "metadata": {},
   "outputs": [
    {
     "name": "stdout",
     "output_type": "stream",
     "text": [
      "10\n",
      "20\n",
      "30\n",
      "10\n",
      "40\n",
      "10\n",
      "20\n",
      "30\n",
      "40\n",
      "40\n"
     ]
    }
   ],
   "source": [
    "list = [10,20,30,10,34.56,5,6,78,40,10,20,30,40,40]\n",
    "x = (20,10,30,40)\n",
    "for i in range(0,len(list)):\n",
    "    if list[i] in x:\n",
    "        print(list[i])"
   ]
  },
  {
   "cell_type": "code",
   "execution_count": 79,
   "id": "dc2518db-cf13-44d6-afdc-ed1a89caa473",
   "metadata": {},
   "outputs": [
    {
     "name": "stdout",
     "output_type": "stream",
     "text": [
      "6\n"
     ]
    }
   ],
   "source": [
    "list = [10,20,30,10,34.56,5,6,78,40,10,20,30,40,40]\n",
    "x = (10,40)\n",
    "c = 0\n",
    "for i in range(0,len(list)):\n",
    "    if list[i] in x:\n",
    "        c+=1\n",
    "print(c)"
   ]
  },
  {
   "cell_type": "code",
   "execution_count": 137,
   "id": "75a324ce-5319-4d8d-a4f6-2b5d84d671f1",
   "metadata": {},
   "outputs": [
    {
     "name": "stdout",
     "output_type": "stream",
     "text": [
      "matched\n"
     ]
    }
   ],
   "source": [
    "list = [10,20,30,40]\n",
    "a = (12,3,4,10,5)\n",
    "x = 0\n",
    "for i in list:\n",
    "    if i in a:\n",
    "        x = 1\n",
    "        break\n",
    "if(x==1):\n",
    "    print(\"matched\")\n",
    "else:\n",
    "    print(\"not match\")"
   ]
  },
  {
   "cell_type": "code",
   "execution_count": 109,
   "id": "a6ab92f3-4f7b-46ee-bebf-9955b353b593",
   "metadata": {},
   "outputs": [
    {
     "name": "stdout",
     "output_type": "stream",
     "text": [
      "value matched\n"
     ]
    }
   ],
   "source": [
    "x = 10\n",
    "list = [10,20,30,40]\n",
    "a=0\n",
    "for i in list:\n",
    "    if (x==i):\n",
    "        a=1\n",
    "        break\n",
    "if(a==1):\n",
    "    print(\"value matched\")\n",
    "else:\n",
    "    print(\"not\")\n"
   ]
  },
  {
   "cell_type": "markdown",
   "id": "c3822b4f-46fe-4b95-a8ae-6727b45cc431",
   "metadata": {},
   "source": [
    "# patterns revision"
   ]
  },
  {
   "cell_type": "code",
   "execution_count": 144,
   "id": "7ecd13c8-4f16-4eef-9a0a-9c2110a03301",
   "metadata": {},
   "outputs": [
    {
     "name": "stdout",
     "output_type": "stream",
     "text": [
      "    * * * * \n",
      "   * * * * \n",
      "  * * * * \n",
      " * * * * \n"
     ]
    }
   ],
   "source": [
    "for i in range(1,5):\n",
    "    for j in range(i,5):\n",
    "        print(\" \",end = \"\")\n",
    "    for k in range(1 , 5):\n",
    "        print(\"*\",end = \" \")\n",
    "    print(\"\")"
   ]
  },
  {
   "cell_type": "code",
   "execution_count": 148,
   "id": "d5ec1faf-effc-48bd-a7f9-9040b56d030c",
   "metadata": {},
   "outputs": [
    {
     "name": "stdout",
     "output_type": "stream",
     "text": [
      " ****\n",
      "  ****\n",
      "   ****\n",
      "    ****\n"
     ]
    }
   ],
   "source": [
    "for i in range(1,5):\n",
    "    for j in range(1,i+1):\n",
    "        print(\" \" , end = \"\")\n",
    "    for k in range(1,5):\n",
    "        print(\"*\",end = \"\")\n",
    "    print()"
   ]
  },
  {
   "cell_type": "code",
   "execution_count": 180,
   "id": "7ca98cd7-767e-4bf6-ae73-bcc57141a26c",
   "metadata": {},
   "outputs": [
    {
     "name": "stdout",
     "output_type": "stream",
     "text": [
      "******\n",
      "*    *    \n",
      "*    *    \n",
      "******\n"
     ]
    }
   ],
   "source": [
    "num = 4\n",
    "for i in range(1,5):\n",
    "    for j in range(1,num + 3):\n",
    "        if(i==1 or j==1 or i==num or j==num):\n",
    "            print(\"*\",end = \"\")\n",
    "        else:\n",
    "            print(\" \",end = \" \")\n",
    "        \n",
    "    print()"
   ]
  },
  {
   "cell_type": "code",
   "execution_count": 182,
   "id": "2998ef56-8b13-41bd-b418-fe4c64594000",
   "metadata": {},
   "outputs": [
    {
     "name": "stdout",
     "output_type": "stream",
     "text": [
      "A\n",
      "AB\n",
      "ABC\n",
      "ABCD\n",
      "ABCDE\n"
     ]
    }
   ],
   "source": [
    "for i in range(1,6):\n",
    "    x = 65\n",
    "    for j in range(1,i+1):\n",
    "        print(chr(x),end = \"\")\n",
    "        x+=1\n",
    "    print()\n",
    "        "
   ]
  },
  {
   "cell_type": "code",
   "execution_count": 184,
   "id": "c3784589-4e15-450c-9566-c727539c03aa",
   "metadata": {},
   "outputs": [
    {
     "name": "stdout",
     "output_type": "stream",
     "text": [
      "A\n",
      "BB\n",
      "CCC\n",
      "DDDD\n",
      "EEEEE\n"
     ]
    }
   ],
   "source": [
    "x = 65\n",
    "for i in range(1,6):\n",
    "    for j in range(1,i+1):\n",
    "        print(chr(x),end = \"\")\n",
    "    x+=1\n",
    "    print()"
   ]
  },
  {
   "cell_type": "code",
   "execution_count": 224,
   "id": "4174b0c4-b9a8-4dc9-a2d9-77970a413a0c",
   "metadata": {},
   "outputs": [
    {
     "name": "stdout",
     "output_type": "stream",
     "text": [
      "E\n",
      "DE\n",
      "CDE\n",
      "BCDE\n",
      "ABCDE\n"
     ]
    }
   ],
   "source": [
    "for i in range(5,0,-1):\n",
    "    x = 64+i\n",
    "    for j in range(i,6):\n",
    "        print(chr(x),end = \"\")\n",
    "        x+=1\n",
    "    print()"
   ]
  },
  {
   "cell_type": "code",
   "execution_count": 230,
   "id": "1818a43d-547f-46ef-8478-5416347572b1",
   "metadata": {},
   "outputs": [
    {
     "name": "stdout",
     "output_type": "stream",
     "text": [
      "----*\n",
      "---**\n",
      "--***\n",
      "-****\n",
      "*****\n"
     ]
    }
   ],
   "source": [
    "for i in range(1,6):\n",
    "    for j in range(i,5):\n",
    "        print(\"-\",end = \"\")\n",
    "    for k in range(1,i+1):\n",
    "        print(\"*\",end = \"\")\n",
    "    print()"
   ]
  },
  {
   "cell_type": "code",
   "execution_count": 232,
   "id": "2792c156-3f5d-4725-a17d-d6f0d9f3ca59",
   "metadata": {},
   "outputs": [
    {
     "name": "stdout",
     "output_type": "stream",
     "text": [
      "    1\n",
      "   12\n",
      "  123\n",
      " 1234\n",
      "12345\n"
     ]
    }
   ],
   "source": [
    "for i in range(1,6):\n",
    "    \n",
    "    for j in range(i,5):\n",
    "        print(\" \",end = \"\")\n",
    "    for k in range(1,i+1):\n",
    "        print(k,end = \"\")\n",
    "    print()\n",
    "        "
   ]
  },
  {
   "cell_type": "code",
   "execution_count": 256,
   "id": "92eb9ca6-9387-4a67-8b56-4d9485a8edd7",
   "metadata": {},
   "outputs": [
    {
     "name": "stdout",
     "output_type": "stream",
     "text": [
      "12345\n",
      "-1234\n",
      "--123\n",
      "---12\n",
      "----1\n"
     ]
    }
   ],
   "source": [
    "for i in range(5,0,-1):\n",
    "    for j in range(i,5):\n",
    "        print(\"-\",end = \"\")\n",
    "    for k in range(1,i+1):\n",
    "        print(k,end = \"\")\n",
    "    print()"
   ]
  },
  {
   "cell_type": "code",
   "execution_count": 266,
   "id": "063b363d-034a-4f98-8f86-df45487d5f52",
   "metadata": {},
   "outputs": [
    {
     "name": "stdout",
     "output_type": "stream",
     "text": [
      "ABCDE\n",
      "-ABCD\n",
      "--ABC\n",
      "---AB\n",
      "----A\n"
     ]
    }
   ],
   "source": [
    "\n",
    "for i in range(5,0,-1):\n",
    "    x = 65\n",
    "    for j in range(i,5):\n",
    "        print(\"-\",end = \"\")\n",
    "    for k in range(1,i+1):\n",
    "        print(chr(x),end = \"\")\n",
    "        x+=1\n",
    "    print()\n",
    "    "
   ]
  },
  {
   "cell_type": "code",
   "execution_count": 276,
   "id": "4619f589-5bf7-41cd-b7d4-195cf8ccbf09",
   "metadata": {},
   "outputs": [
    {
     "name": "stdout",
     "output_type": "stream",
     "text": [
      "     1 2 3 4 5 \n",
      "    1 2 3 4 5 \n",
      "   1 2 3 4 5 \n",
      "  1 2 3 4 5 \n",
      " 1 2 3 4 5 \n"
     ]
    }
   ],
   "source": [
    "for i in range(1,6):\n",
    "    for j in range(i,6):\n",
    "        print(\" \",end = \"\")\n",
    "    for k in range(1,6):\n",
    "        print(k,end = \" \")\n",
    "    print()"
   ]
  },
  {
   "cell_type": "code",
   "execution_count": 286,
   "id": "a753ebc4-aa27-44a6-b641-292c784947f7",
   "metadata": {},
   "outputs": [
    {
     "name": "stdout",
     "output_type": "stream",
     "text": [
      "     ABCDE\n",
      "    ABCDE\n",
      "   ABCDE\n",
      "  ABCDE\n",
      " ABCDE\n"
     ]
    }
   ],
   "source": [
    "\n",
    "\n",
    "for i in range(1,6):\n",
    "    x =65\n",
    "    for j in range(i,6):\n",
    "        print(\" \",end = \"\")\n",
    "    for k in range(1,6):\n",
    "        print(chr(x),end = \"\")\n",
    "        x+=1\n",
    "    print()\n",
    "    "
   ]
  },
  {
   "cell_type": "code",
   "execution_count": 302,
   "id": "af3081a8-e5d0-4e00-b182-92934095f17b",
   "metadata": {},
   "outputs": [
    {
     "name": "stdout",
     "output_type": "stream",
     "text": [
      "    * \n",
      "   * * \n",
      "  * * * \n",
      " * * * * \n",
      "* * * * * \n"
     ]
    }
   ],
   "source": [
    "for i in range(1,6):\n",
    "    for j in range(i,5):\n",
    "        print(\" \",end = \"\")\n",
    "    for k in range(1,i+1):\n",
    "        print(\"* \",end = \"\")\n",
    "    print()"
   ]
  },
  {
   "cell_type": "code",
   "execution_count": 308,
   "id": "e9bdb003-93bd-4fb3-87db-43094d5f290c",
   "metadata": {},
   "outputs": [
    {
     "name": "stdout",
     "output_type": "stream",
     "text": [
      "   *\n",
      "  ***\n",
      " *****\n",
      "*******\n"
     ]
    }
   ],
   "source": [
    "for i in range(1,5):\n",
    "    for j in range(i,4):\n",
    "        print(\" \",end = \"\")\n",
    "    for k in range(1,2*i):\n",
    "        print(\"*\",end = \"\")\n",
    "    print()\n",
    "        "
   ]
  },
  {
   "cell_type": "code",
   "execution_count": 310,
   "id": "e412e6f5-4d74-455a-8f10-f70a1da33faf",
   "metadata": {},
   "outputs": [
    {
     "name": "stdout",
     "output_type": "stream",
     "text": [
      "*        *\n",
      "**      **\n",
      "***    ***\n",
      "****  ****\n",
      "**********\n",
      "**********\n",
      "****  ****\n",
      "***    ***\n",
      "**      **\n",
      "*        *\n"
     ]
    }
   ],
   "source": [
    "n = 5\n",
    "\n",
    "# Upper Half\n",
    "for i in range(1, n + 1):\n",
    "    print(\"*\" * i + \" \" * (2 * (n - i)) + \"*\" * i)\n",
    "\n",
    "# Lower Half\n",
    "for i in range(n, 0, -1):\n",
    "    print(\"*\" * i + \" \" * (2 * (n - i)) + \"*\" * i)"
   ]
  },
  {
   "cell_type": "code",
   "execution_count": 7,
   "id": "b0211abd-5437-4c59-b9db-2c6c33a577e6",
   "metadata": {},
   "outputs": [
    {
     "name": "stdout",
     "output_type": "stream",
     "text": [
      "    1 \n",
      "   1 1 \n",
      "  1 2 1 \n",
      " 1 3 3 1 \n",
      "1 4 6 4 1 \n"
     ]
    }
   ],
   "source": [
    "ls = []                               # pascal triangle\n",
    "num = 4\n",
    "for i in range(0,num+1):\n",
    "    temp = []\n",
    "    for j in range(i,num):\n",
    "        print(\" \",end = \"\")\n",
    "    for k in range(0,i+1):\n",
    "        if(k==0 or k==i):\n",
    "            temp.append(1)\n",
    "            print(1,end = \" \")\n",
    "        else:\n",
    "            data = ls[i-1][k] + ls[i-1][k-1]\n",
    "            temp.append(data)\n",
    "            print(data,end = \" \")\n",
    "    ls.append(temp)\n",
    "    print()"
   ]
  },
  {
   "cell_type": "code",
   "execution_count": 32,
   "id": "e230bc56-5103-4a4c-9263-775f9c9a7c0f",
   "metadata": {},
   "outputs": [],
   "source": [
    "# check palindrome in string"
   ]
  },
  {
   "cell_type": "code",
   "execution_count": 38,
   "id": "fcf82518-a366-4164-b921-37812f4192e2",
   "metadata": {},
   "outputs": [
    {
     "name": "stdout",
     "output_type": "stream",
     "text": [
      "it is palindrome\n"
     ]
    }
   ],
   "source": [
    "ls = \"naman\"\n",
    "start = 0\n",
    "end = len(ls)-1\n",
    "x= 0\n",
    "while start < len(ls):\n",
    "    if ls[start] != ls[end]:\n",
    "        x=1\n",
    "        break\n",
    "    start += 1\n",
    "    end -=1\n",
    "if(x==1):\n",
    "    print(\"not palindrome\")\n",
    "else:\n",
    "    print(\"it is palindrome\")"
   ]
  },
  {
   "cell_type": "code",
   "execution_count": 52,
   "id": "af5f059f-92a6-4f9b-9f4f-e30883f75558",
   "metadata": {},
   "outputs": [
    {
     "name": "stdout",
     "output_type": "stream",
     "text": [
      "3\n"
     ]
    }
   ],
   "source": [
    "ls = \"rajrtr\"\n",
    "st= 0\n",
    "end = len(ls)-1\n",
    "c = 1\n",
    "while st < len(ls):\n",
    "    if (ls[st] == ls[end]):\n",
    "        c+=1\n",
    "    st+=1\n",
    "    end -=1\n",
    "print(c)"
   ]
  },
  {
   "cell_type": "code",
   "execution_count": 1,
   "id": "60b940f2-526b-4d67-9dd1-7132c05f5b0c",
   "metadata": {},
   "outputs": [],
   "source": [
    "# PATTERNS"
   ]
  },
  {
   "cell_type": "code",
   "execution_count": 3,
   "id": "1cf3f085-b7f7-4668-8209-70fe58253852",
   "metadata": {},
   "outputs": [
    {
     "name": "stdout",
     "output_type": "stream",
     "text": [
      "     *\n",
      "    ***\n",
      "   * * *\n",
      "  *  *  *\n",
      " *********\n"
     ]
    }
   ],
   "source": [
    "for i in range(1,6):\n",
    "    for k in range(i,6):\n",
    "        print(\" \",end = \"\")\n",
    "   \n",
    "    for j in range(2*i-1):\n",
    "        if j==0 or j==2*i-2 or i==5 or i==j+1:\n",
    "            print(\"*\",end = \"\")\n",
    "        else:\n",
    "            print(\" \",end = \"\")\n",
    "    print()\n",
    "            "
   ]
  },
  {
   "cell_type": "code",
   "execution_count": null,
   "id": "1572ac0e-4fb6-432d-886c-c346be5acb9b",
   "metadata": {},
   "outputs": [],
   "source": []
  }
 ],
 "metadata": {
  "kernelspec": {
   "display_name": "Python 3 (ipykernel)",
   "language": "python",
   "name": "python3"
  },
  "language_info": {
   "codemirror_mode": {
    "name": "ipython",
    "version": 3
   },
   "file_extension": ".py",
   "mimetype": "text/x-python",
   "name": "python",
   "nbconvert_exporter": "python",
   "pygments_lexer": "ipython3",
   "version": "3.12.4"
  }
 },
 "nbformat": 4,
 "nbformat_minor": 5
}
