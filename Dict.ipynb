{
 "cells": [
  {
   "cell_type": "code",
   "execution_count": 1,
   "id": "6a23a473-6ec1-4a5e-ae2f-a6308f4351a7",
   "metadata": {},
   "outputs": [],
   "source": [
    "# Q:1 \n",
    "#l1=[10,20,300]\n",
    "#l2=[40,50,60]\n",
    "#{10:40,  20:50,  300:60}\n",
    "# note using zip and without zip\n"
   ]
  },
  {
   "cell_type": "code",
   "execution_count": 23,
   "id": "f3e65013-1658-4ea5-bec4-3c0da7b58357",
   "metadata": {},
   "outputs": [
    {
     "name": "stdout",
     "output_type": "stream",
     "text": [
      "{10: 40, 20: 50, 300: 60}\n"
     ]
    }
   ],
   "source": [
    "l1 = [10,20,300]\n",
    "l2 = [40,50,60]\n",
    "dict = {}\n",
    "for i in range(0,len(l1)):\n",
    "    dict[l1[i]] = l2[i]\n",
    "           \n",
    "print (dict)\n",
    "        \n",
    "    "
   ]
  },
  {
   "cell_type": "code",
   "execution_count": 25,
   "id": "a090f395-8dbd-4de4-b88a-906958d2d4a6",
   "metadata": {},
   "outputs": [],
   "source": [
    "#Q2 {name: marks .. . . . .  ======>} multiple elements\n",
    "#now take a input from the user for score variable\n",
    "#--> print the key who have more value then the score variable"
   ]
  },
  {
   "cell_type": "code",
   "execution_count": 80,
   "id": "2e3a7dc6-0439-4491-ac08-87a67ca52ab5",
   "metadata": {},
   "outputs": [
    {
     "name": "stdin",
     "output_type": "stream",
     "text": [
      "enter the score: 45\n"
     ]
    },
    {
     "name": "stdout",
     "output_type": "stream",
     "text": [
      "yash 300\n",
      "popaye 60\n"
     ]
    }
   ],
   "source": [
    "dict = {\"yash\":300 , \"raj\":40,\"popaye\":60}\n",
    "score = int(input(\"enter the score:\"))\n",
    "for i in dict.items():\n",
    "    key=i[0]\n",
    "    value=i[1]\n",
    "    if score < value:\n",
    "        print(key,value)\n",
    "        \n",
    "\n"
   ]
  },
  {
   "cell_type": "code",
   "execution_count": 82,
   "id": "39b9353f-e95e-40a6-9aaf-a6526da147ac",
   "metadata": {},
   "outputs": [],
   "source": [
    "#Q3 {10:19,  11:20,  13:NONE}\n",
    "#delete the key-value pair where the value is none"
   ]
  },
  {
   "cell_type": "code",
   "execution_count": 118,
   "id": "8b0a216a-fb48-4fa5-80ff-e3a07d2850b0",
   "metadata": {},
   "outputs": [
    {
     "name": "stdout",
     "output_type": "stream",
     "text": [
      "{10: 19, 11: 20, 14: 56}\n"
     ]
    }
   ],
   "source": [
    "dict = {10:19,  11:20,  13:None, 14:56}\n",
    "dt = {}\n",
    "for i in dict:\n",
    "    if dict[i] is not None:\n",
    "        dt[i] = dict[i]\n",
    "\n",
    "print(dt)\n"
   ]
  },
  {
   "cell_type": "code",
   "execution_count": 120,
   "id": "4896d164-fbd1-4848-bb55-ed1128f021b3",
   "metadata": {},
   "outputs": [],
   "source": [
    "# Q4:   {\"x\":5, \"y\":7, \"z\":10}\n",
    "# print new dictionary as square of each key {x:25, y:49,  z:100}"
   ]
  },
  {
   "cell_type": "code",
   "execution_count": 130,
   "id": "4f3eca8c-1107-40b3-bdd5-7a03af766611",
   "metadata": {},
   "outputs": [
    {
     "name": "stdout",
     "output_type": "stream",
     "text": [
      "{'x': 25, 'y': 49, 'z': 100}\n"
     ]
    }
   ],
   "source": [
    "dict = {\"x\":5, \"y\":7, \"z\":10}\n",
    "dt = {}\n",
    "for i in dict:\n",
    "    dt[i] = dict[i]**2\n",
    "print(dt)"
   ]
  },
  {
   "cell_type": "code",
   "execution_count": 132,
   "id": "21f4bcaa-6819-4c13-aa1d-cd5467b27565",
   "metadata": {},
   "outputs": [],
   "source": [
    "#Q5\n",
    "#create a dictionary as cube of number from 1 to 5\n",
    "#{1:1, 2:8, 3:27, 4:64, 5:125}\n",
    "#Note use only thing we have learnt"
   ]
  },
  {
   "cell_type": "code",
   "execution_count": 136,
   "id": "156e81c0-7f9c-4299-ac71-a83b04ca0e34",
   "metadata": {},
   "outputs": [
    {
     "name": "stdout",
     "output_type": "stream",
     "text": [
      "{1: 1, 2: 8, 3: 27, 4: 64, 5: 125}\n"
     ]
    }
   ],
   "source": [
    "dict = {1:1, 2:2, 3:3, 4:4, 5:5}   #1 method\n",
    "dt = {}\n",
    "for i in dict:\n",
    "    dt[i] = dict[i]**3\n",
    "print(dt)"
   ]
  },
  {
   "cell_type": "code",
   "execution_count": 140,
   "id": "c4dd7219-c392-462f-955f-8ece4ff6837e",
   "metadata": {},
   "outputs": [
    {
     "name": "stdout",
     "output_type": "stream",
     "text": [
      "{1: 1, 2: 8, 3: 27, 4: 64, 5: 125}\n"
     ]
    }
   ],
   "source": [
    "dt = {}              #2 method\n",
    "for i in range(1,6):\n",
    "    dt[i] = i**3\n",
    "print(dt)"
   ]
  },
  {
   "cell_type": "code",
   "execution_count": 142,
   "id": "49aa111f-4fac-41aa-b090-9e1ef2c3f283",
   "metadata": {},
   "outputs": [],
   "source": [
    "# Q6 {\"x\":5, \"y\":7, \"z\":10}\n",
    "# get the ans in new dictionary {\"average\":7.3 ,   \"max\":10}"
   ]
  },
  {
   "cell_type": "code",
   "execution_count": 144,
   "id": "ff543e41-31bc-49ce-96fe-4d53fcc8f48b",
   "metadata": {},
   "outputs": [
    {
     "name": "stdout",
     "output_type": "stream",
     "text": [
      "{'max': 10}\n",
      "7.333333333333333\n"
     ]
    }
   ],
   "source": [
    "d = {\"x\":5,\"y\":7,\"z\":10}\n",
    "dt = {}\n",
    "d=d.values()\n",
    "d=list(d)\n",
    "s = 0\n",
    "c = 0\n",
    "max_values = d[0]\n",
    "t = 0\n",
    "for i in range (0,len(d)):\n",
    "    if (d[i] > max_values):\n",
    "        max_values = d[i]\n",
    "        dt.update({\"max\":max_values})\n",
    "print(dt)\n",
    "for i in range (len(d)):\n",
    "    s+=d[i]\n",
    "    c+=1\n",
    "    avg=s/c\n",
    "print(avg)"
   ]
  },
  {
   "cell_type": "code",
   "execution_count": null,
   "id": "845653f1-26e2-4376-b895-61ad8382c690",
   "metadata": {},
   "outputs": [],
   "source": []
  }
 ],
 "metadata": {
  "kernelspec": {
   "display_name": "Python 3 (ipykernel)",
   "language": "python",
   "name": "python3"
  },
  "language_info": {
   "codemirror_mode": {
    "name": "ipython",
    "version": 3
   },
   "file_extension": ".py",
   "mimetype": "text/x-python",
   "name": "python",
   "nbconvert_exporter": "python",
   "pygments_lexer": "ipython3",
   "version": "3.12.4"
  }
 },
 "nbformat": 4,
 "nbformat_minor": 5
}
