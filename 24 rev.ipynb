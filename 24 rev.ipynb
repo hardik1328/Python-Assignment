{
 "cells": [
  {
   "cell_type": "code",
   "execution_count": 11,
   "id": "ff79f5cd-fd84-4a5a-b5f9-0502c63fdc28",
   "metadata": {},
   "outputs": [
    {
     "name": "stdout",
     "output_type": "stream",
     "text": [
      "4\n"
     ]
    }
   ],
   "source": [
    "list = [10,20,30,10,40,10,20]\n",
    "count = 0\n",
    "for i in range(0,len(list)):\n",
    "    for j in range(i+1,len(list)):\n",
    "        if list[i] == list[j]:\n",
    "            count += 1\n",
    "print(count)"
   ]
  },
  {
   "cell_type": "code",
   "execution_count": 19,
   "id": "3ddc544b-3e91-4ccf-8f21-91c984ca6847",
   "metadata": {},
   "outputs": [
    {
     "name": "stdout",
     "output_type": "stream",
     "text": [
      "not\n"
     ]
    }
   ],
   "source": [
    "n = 115\n",
    "x = 0\n",
    "for i in range(2,n):\n",
    "    if(n%i==0):\n",
    "        x=1\n",
    "        break\n",
    "if(x==1):\n",
    "    print(\"not\")\n",
    "else:\n",
    "    print(\"prime\")"
   ]
  },
  {
   "cell_type": "code",
   "execution_count": 37,
   "id": "58685d0a-d2ec-4d52-b6b1-514102984ccc",
   "metadata": {},
   "outputs": [
    {
     "name": "stdout",
     "output_type": "stream",
     "text": [
      "2 4\n",
      "2 4\n",
      "2 4\n",
      "2 4\n",
      "2 4\n",
      "2 4\n"
     ]
    }
   ],
   "source": [
    "ls = [0,1,2,4,7,14,28]\n",
    "st = 0\n",
    "end = len(ls)-1\n",
    "target = 6\n",
    "for i in range(1,len(ls)):\n",
    "    for j in range(i,len(ls)):\n",
    "        if(ls[st] + ls[end] == target):\n",
    "            print(ls[st],ls[end])\n",
    "            break\n",
    "        elif(ls[st] + ls[end] > target):\n",
    "            end -=1\n",
    "        else:\n",
    "            st += 1\n",
    "            "
   ]
  },
  {
   "cell_type": "code",
   "execution_count": null,
   "id": "5de4e499-da5f-4dff-a786-1a43dd213d42",
   "metadata": {},
   "outputs": [],
   "source": []
  }
 ],
 "metadata": {
  "kernelspec": {
   "display_name": "Python 3 (ipykernel)",
   "language": "python",
   "name": "python3"
  },
  "language_info": {
   "codemirror_mode": {
    "name": "ipython",
    "version": 3
   },
   "file_extension": ".py",
   "mimetype": "text/x-python",
   "name": "python",
   "nbconvert_exporter": "python",
   "pygments_lexer": "ipython3",
   "version": "3.12.4"
  }
 },
 "nbformat": 4,
 "nbformat_minor": 5
}
