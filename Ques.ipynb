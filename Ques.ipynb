{
 "cells": [
  {
   "cell_type": "code",
   "execution_count": 3,
   "id": "f0bd6e46-c7bb-4623-a06a-0898eed13bf8",
   "metadata": {},
   "outputs": [],
   "source": [
    "# Question 1 -> wap from 1 to 100 print the cummulative sum"
   ]
  },
  {
   "cell_type": "code",
   "execution_count": 13,
   "id": "ad134127-b60b-4099-baf6-7cd15953c99e",
   "metadata": {},
   "outputs": [
    {
     "name": "stdout",
     "output_type": "stream",
     "text": [
      "5050 "
     ]
    }
   ],
   "source": [
    "\n",
    "c = 0\n",
    "for i in range(1,101):\n",
    "    c += i\n",
    "    \n",
    "print(c,end = \" \")"
   ]
  },
  {
   "cell_type": "code",
   "execution_count": 17,
   "id": "8ec35790-5cb5-4cb2-93da-4fca37ffc99f",
   "metadata": {},
   "outputs": [],
   "source": [
    "# Q:2 -> take a input from user and print  all its factor."
   ]
  },
  {
   "cell_type": "code",
   "execution_count": 39,
   "id": "a91ce9c0-8c2c-4f98-880a-73eafd7e9275",
   "metadata": {},
   "outputs": [
    {
     "name": "stdin",
     "output_type": "stream",
     "text": [
      "enter the number: 10\n"
     ]
    },
    {
     "name": "stdout",
     "output_type": "stream",
     "text": [
      "1\n",
      "2\n",
      "5\n",
      "10\n"
     ]
    }
   ],
   "source": [
    "a = int(input(\"enter the number:\"))\n",
    "for i in range(1,a+1):\n",
    "    if(a%i==0):\n",
    "        print(i)\n",
    "    "
   ]
  },
  {
   "cell_type": "code",
   "execution_count": 33,
   "id": "476ce2f5-1cf4-4d70-99e7-3023b75d7539",
   "metadata": {},
   "outputs": [],
   "source": [
    "# Q:3 -> take a input from user and check if the no. has more than 2 factors."
   ]
  },
  {
   "cell_type": "code",
   "execution_count": 81,
   "id": "eb3dcb6c-0961-4208-a9b3-929a0bdb1728",
   "metadata": {},
   "outputs": [
    {
     "name": "stdin",
     "output_type": "stream",
     "text": [
      "enter the number: 7\n"
     ]
    },
    {
     "name": "stdout",
     "output_type": "stream",
     "text": [
      "not more than 2 factors of: 7\n"
     ]
    }
   ],
   "source": [
    "a = int(input(\"enter the number:\"))\n",
    "c = 0\n",
    "for i in range(1,a+1):\n",
    "    if(a%i==0):\n",
    "        c += 1\n",
    "if(c>2):\n",
    "    print(\"more than two factors:\",a)\n",
    "else:\n",
    "    print(\"not more than 2 factors of:\",a)\n",
    "        \n",
    "            \n",
    "        "
   ]
  },
  {
   "cell_type": "code",
   "execution_count": 83,
   "id": "889ea41f-2c93-423c-9238-4b10797cc25b",
   "metadata": {},
   "outputs": [],
   "source": [
    "# Q:4 -> wap and find  the odd numbers from both of the list"
   ]
  },
  {
   "cell_type": "code",
   "execution_count": 89,
   "id": "437690c9-2671-444f-85b9-1037495da78e",
   "metadata": {},
   "outputs": [
    {
     "name": "stdout",
     "output_type": "stream",
     "text": [
      "[1, 3, 5, 9, 11, 77, 99, 13]\n"
     ]
    }
   ],
   "source": [
    "a = [1,3,5,6,8,9]\n",
    "b = [11,34,56,77,99,13]\n",
    "c = []\n",
    "for i in a:\n",
    "    if(i%2==1):\n",
    "        c.append(i)\n",
    "for i in b:\n",
    "    if(i%2==1):\n",
    "        c.append(i)\n",
    "print(c)\n",
    "    \n",
    "    \n",
    "    "
   ]
  },
  {
   "cell_type": "code",
   "execution_count": 91,
   "id": "859f023a-4686-4671-a6e3-2005086ac330",
   "metadata": {},
   "outputs": [],
   "source": [
    "# Q:5 -> take a no. and check whether it is palindrome or not"
   ]
  },
  {
   "cell_type": "code",
   "execution_count": 99,
   "id": "260ed0e2-35ad-4a4d-af08-fce6fcff5acd",
   "metadata": {},
   "outputs": [
    {
     "name": "stdout",
     "output_type": "stream",
     "text": [
      "it is palindrome\n"
     ]
    }
   ],
   "source": [
    "a = 151\n",
    "rem = 0\n",
    "sum = 0\n",
    "temp = a\n",
    "while(a>0):\n",
    "    rem = a%10\n",
    "    sum = sum*10 + rem\n",
    "    a = a//10\n",
    "if(temp==sum):\n",
    "    print(\"it is palindrome\")\n",
    "else:\n",
    "    print(\"not a palindrome\")"
   ]
  },
  {
   "cell_type": "code",
   "execution_count": 101,
   "id": "260799d5-f797-4e24-83ac-d35ad3b6d8fa",
   "metadata": {},
   "outputs": [],
   "source": [
    "# Q:6 wap to check the lcm of two number"
   ]
  },
  {
   "cell_type": "code",
   "execution_count": 3,
   "id": "ad45ad12-53d2-4105-9913-eae7225324a4",
   "metadata": {},
   "outputs": [
    {
     "name": "stdin",
     "output_type": "stream",
     "text": [
      "enter the number: 6\n",
      "enter the number: 9\n"
     ]
    },
    {
     "name": "stdout",
     "output_type": "stream",
     "text": [
      "the lcm is 18\n"
     ]
    }
   ],
   "source": [
    "x = int(input(\"enter the number:\"))\n",
    "y = int(input(\"enter the number:\"))\n",
    "\n",
    "if x>y:\n",
    "    greater = x\n",
    "else:\n",
    "    greater = y\n",
    "while True:\n",
    "    if(greater % x ==0 and greater % y ==0):\n",
    "        lcm = greater\n",
    "        break\n",
    "    greater += 1\n",
    "print(\"the lcm is\",lcm)\n",
    "    "
   ]
  },
  {
   "cell_type": "code",
   "execution_count": 5,
   "id": "16b39bac-c1bb-4fef-b83b-7789b730276d",
   "metadata": {},
   "outputs": [],
   "source": [
    "# Q:7 wap print factorial"
   ]
  },
  {
   "cell_type": "code",
   "execution_count": 19,
   "id": "ab3a2eb9-5634-4154-9681-06d92caabde5",
   "metadata": {},
   "outputs": [
    {
     "name": "stdout",
     "output_type": "stream",
     "text": [
      "120\n"
     ]
    }
   ],
   "source": [
    "\n",
    "fact = 5\n",
    "for i in range(1,5):\n",
    "    fact *= i\n",
    "print(fact)"
   ]
  },
  {
   "cell_type": "code",
   "execution_count": 21,
   "id": "d3c0334f-f486-479b-9392-bde54f7884e8",
   "metadata": {},
   "outputs": [],
   "source": [
    "# Q:8 take a list containing all the no. and do the following task\n",
    "#--> find maximum value from list \n",
    "#--> find minimum value\n",
    "#--> try to arrange the list element in ascending order\n",
    "#--> find the second highest number from the list"
   ]
  },
  {
   "cell_type": "code",
   "execution_count": 3,
   "id": "a6dbe2ac-c234-42d2-aa99-f186936b4c53",
   "metadata": {},
   "outputs": [
    {
     "name": "stdout",
     "output_type": "stream",
     "text": [
      "max 20\n",
      "min 2\n",
      "[2, 8, 10, 20]\n",
      "second last highest: 10\n"
     ]
    }
   ],
   "source": [
    "ls = [10,20,8,2]\n",
    "max_value = ls [0]\n",
    "min_value = ls [0]\n",
    "temp = 0\n",
    "smax = 0\n",
    "max1 = 0\n",
    "for i in range(0,len(ls)):\n",
    "\n",
    "    if (ls[i]>max_value):\n",
    "        max_value = ls[i]\n",
    "        \n",
    "        \n",
    "\n",
    "\n",
    "    if(min_value>ls[i]):\n",
    "        min_value = ls[i]\n",
    "print(\"max\",max_value)\n",
    "print(\"min\",min_value)\n",
    "for i in range (0,len(ls)):\n",
    "    for j in range (i+1,len(ls)):\n",
    "        if (ls[i] > ls[j]):\n",
    "            temp = ls[i]\n",
    "            ls[i] = ls[j]\n",
    "            ls[j] = temp\n",
    "print(ls)\n",
    "#a = ls[-2]\n",
    "#print(\"second max\",a)\n",
    "\n",
    "\n",
    "for i in range (0,len(ls)) :\n",
    "    if (ls[i] > max1 ):\n",
    "        smax = max1\n",
    "        max1 = ls[i]\n",
    "    elif(ls[i]> smax and ls[i] != max1):\n",
    "        smax = ls[i]\n",
    "\n",
    "print(\"second last highest:\",smax)"
   ]
  },
  {
   "cell_type": "code",
   "execution_count": null,
   "id": "4da86adc-5d37-4c62-a944-497ad9758e60",
   "metadata": {},
   "outputs": [],
   "source": []
  }
 ],
 "metadata": {
  "kernelspec": {
   "display_name": "Python 3 (ipykernel)",
   "language": "python",
   "name": "python3"
  },
  "language_info": {
   "codemirror_mode": {
    "name": "ipython",
    "version": 3
   },
   "file_extension": ".py",
   "mimetype": "text/x-python",
   "name": "python",
   "nbconvert_exporter": "python",
   "pygments_lexer": "ipython3",
   "version": "3.12.4"
  }
 },
 "nbformat": 4,
 "nbformat_minor": 5
}
