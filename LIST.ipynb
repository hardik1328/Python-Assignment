{
 "cells": [
  {
   "cell_type": "markdown",
   "id": "b8cdf113-faef-4a67-ab81-05ed71ed818d",
   "metadata": {},
   "source": [
    "# Beginner"
   ]
  },
  {
   "cell_type": "code",
   "execution_count": 7,
   "id": "6e3ebfcf-3ee2-4817-94e3-b863326498a6",
   "metadata": {},
   "outputs": [],
   "source": [
    "# 1. Write a Python program to find the maximum element in a list of numbers without\n",
    "# max functions\n",
    "# numbers = [10, 20, 4, 45, 99]\n",
    "# The maximum element is: 99"
   ]
  },
  {
   "cell_type": "code",
   "execution_count": 33,
   "id": "0b4c639d-cd25-4b34-81d6-afda2219cc36",
   "metadata": {},
   "outputs": [
    {
     "name": "stdout",
     "output_type": "stream",
     "text": [
      "99\n",
      "4\n"
     ]
    }
   ],
   "source": [
    "ls = [10, 20, 4, 45, 99]\n",
    "max = ls[0]\n",
    "min = ls[0]\n",
    "for i in range(1,len(ls)):\n",
    "    if ls[i] > max:\n",
    "        max = ls[i]\n",
    "    if ls[i]<min:\n",
    "        min = ls[i]\n",
    "print(max)\n",
    "print(min)"
   ]
  },
  {
   "cell_type": "code",
   "execution_count": 17,
   "id": "c3db223a-cc74-47e6-bc9d-360b0c8efd51",
   "metadata": {},
   "outputs": [],
   "source": [
    "# 2. Write a Python program to sum all the elements in a list of numbers.\n",
    "# a. numbers = [10, 20, 30, 40]\n",
    "# b. The sum of all elements is: 100"
   ]
  },
  {
   "cell_type": "code",
   "execution_count": 35,
   "id": "ddf24c11-fedd-4d51-924f-34326c5ba419",
   "metadata": {},
   "outputs": [
    {
     "name": "stdout",
     "output_type": "stream",
     "text": [
      "sum of all the numbers is: 100\n"
     ]
    }
   ],
   "source": [
    "ls = [10, 20, 30, 40]\n",
    "sum = 0\n",
    "for i in range(0,len(ls)):\n",
    "    sum+=ls[i]\n",
    "\n",
    "print(\"sum of all the numbers is:\",sum)"
   ]
  },
  {
   "cell_type": "code",
   "execution_count": 25,
   "id": "d36e3923-b3dd-4367-b431-ada07b748f34",
   "metadata": {},
   "outputs": [],
   "source": [
    "# 3. Write a Python program to reverse a list without reverse or slicing operator\n",
    "# a. numbers = [1, 2, 3, 4, 5]\n",
    "# b. Reversed list: [5, 4, 3, 2, 1]"
   ]
  },
  {
   "cell_type": "code",
   "execution_count": 65,
   "id": "07ca7644-a7ef-481b-a04c-ca2fc0108133",
   "metadata": {},
   "outputs": [
    {
     "data": {
      "text/plain": [
       "[5, 4, 3, 2, 1]"
      ]
     },
     "execution_count": 65,
     "metadata": {},
     "output_type": "execute_result"
    }
   ],
   "source": [
    "ls = [1, 2, 3, 4, 5,]\n",
    "temp = 0\n",
    "for i in range(0,len(ls)):\n",
    "    for j in range(i+1,len(ls)):\n",
    "        if ls[i]<ls[j]:\n",
    "            temp = ls[i]\n",
    "            ls[i] = ls[j]\n",
    "            ls[j]=temp\n",
    "\n",
    "ls\n",
    "            \n",
    "        "
   ]
  },
  {
   "cell_type": "code",
   "execution_count": 59,
   "id": "bc2f3deb-b96c-480c-ada3-6c1fa095fb83",
   "metadata": {},
   "outputs": [],
   "source": [
    "# 4. Write a Python program to sort a list in ascending order without sort functions"
   ]
  },
  {
   "cell_type": "code",
   "execution_count": 67,
   "id": "71e8f1f3-79da-431f-a0f9-8af420718ddc",
   "metadata": {},
   "outputs": [
    {
     "data": {
      "text/plain": [
       "[0, 1, 2, 3, 4, 5, 8]"
      ]
     },
     "execution_count": 67,
     "metadata": {},
     "output_type": "execute_result"
    }
   ],
   "source": [
    "ls = [5, 2, 8, 1, 3,0,4]\n",
    "temp = 0\n",
    "for i in range(0,len(ls)):\n",
    "    for j in range(i+1,len(ls)):\n",
    "        if ls[i] > ls[j]:\n",
    "            temp = ls[i]\n",
    "            ls[i] = ls[j]\n",
    "            ls[j] = temp\n",
    "\n",
    "ls\n"
   ]
  },
  {
   "cell_type": "code",
   "execution_count": 63,
   "id": "a2cd9744-21c0-4d94-ae14-409fcf6a91bc",
   "metadata": {},
   "outputs": [],
   "source": [
    "# 5. Write a Python program to remove duplicates from a list while maintaining the order\n",
    "# of elements.\n",
    "# a. numbers = [1, 2, 2, 3, 4, 4, 5]\n",
    "# b. List after removing duplicates: [1, 2, 3, 4, 5]"
   ]
  },
  {
   "cell_type": "code",
   "execution_count": 133,
   "id": "3e37fd94-9f65-4f19-b3b4-d8bbcc3aee05",
   "metadata": {},
   "outputs": [
    {
     "name": "stdout",
     "output_type": "stream",
     "text": [
      "removing the duplicate values: [1, 2, 3, 4, 5]\n"
     ]
    }
   ],
   "source": [
    "ls = [1, 2, 2, 3, 4, 4, 5]\n",
    "ls1 = []\n",
    "for i in range(0,len(ls)):\n",
    "    if ls[i] not in ls1:\n",
    "        ls1.append(ls[i])\n",
    "\n",
    "print(\"removing the duplicate values:\",ls1)"
   ]
  },
  {
   "cell_type": "code",
   "execution_count": 135,
   "id": "51a3c3df-e4c0-4ff1-bde7-44db379ea8f2",
   "metadata": {},
   "outputs": [],
   "source": [
    "# 6. Write a Python program to find all pairs of numbers in a list that add up to a specific\n",
    "# target sum.\n",
    "# a. numbers = [1, 2, 3, 4, 3, 5, 6] target_sum = 6\n",
    "# b. Pairs that add up to 6: [(3, 3), (2, 4), (1, 5)]"
   ]
  },
  {
   "cell_type": "code",
   "execution_count": 158,
   "id": "5292cf37-0c19-4d13-a087-33acca3dea00",
   "metadata": {},
   "outputs": [
    {
     "name": "stdout",
     "output_type": "stream",
     "text": [
      "1 5\n",
      "[(1, 5)]\n"
     ]
    }
   ],
   "source": [
    "ls = [1, 2, 3, 4, 3, 5, 6]             # 1 method\n",
    "start = 0\n",
    "end = len(ls)-1\n",
    "target = 6\n",
    "pair = []\n",
    "\n",
    "while start < end:\n",
    "    if ls[start]+ls[end]==target:\n",
    "        print(ls[start],ls[end])\n",
    "        pair.append((ls[start],ls[end]))\n",
    "       \n",
    "        break\n",
    "    elif ls[start]+ls[end] > target:\n",
    "        end -=1\n",
    "\n",
    "    else:\n",
    "        start+=1\n",
    "\n",
    "print(pair)\n",
    "    "
   ]
  },
  {
   "cell_type": "code",
   "execution_count": 160,
   "id": "cffdbf47-13ff-4b73-8cfb-295ebc6718dd",
   "metadata": {},
   "outputs": [
    {
     "name": "stdout",
     "output_type": "stream",
     "text": [
      "Pairs that add up to 6 : [(1, 5), (2, 4), (3, 3)]\n"
     ]
    }
   ],
   "source": [
    "numbers = [1, 2, 3, 4, 3, 5, 6]                # 2 method\n",
    "target_sum = 6\n",
    "pairs = []\n",
    "\n",
    "for i in range(len(numbers)):\n",
    "    for j in range(i + 1, len(numbers)):\n",
    "        if numbers[i] + numbers[j] == target_sum:\n",
    "            pairs.append((numbers[i], numbers[j]))\n",
    "\n",
    "print(\"Pairs that add up to\", target_sum, \":\", pairs)\n"
   ]
  },
  {
   "cell_type": "code",
   "execution_count": 34,
   "id": "a7855a58-4602-4782-8b25-9ff2e91b2b96",
   "metadata": {},
   "outputs": [],
   "source": [
    "# 7 . Write a Python program to flatten a nested list (list within lists) into a single list.\n",
    "# a. nested_list = [1, [2, 3], [4, [5, 6], 7], 8]\n",
    "# b. Flattened list: [1, 2, 3, 4, 5, 6, 7, 8]"
   ]
  },
  {
   "cell_type": "code",
   "execution_count": 36,
   "id": "d178168a-72e4-4af2-a0a9-2f5d897fa5b1",
   "metadata": {},
   "outputs": [
    {
     "name": "stdout",
     "output_type": "stream",
     "text": [
      "Flattened list: [1, 2, 3, 4, 5, 6, 7, 8]\n"
     ]
    }
   ],
   "source": [
    "nested_list = [1, [2, 3], [4, [5, 6], 7], 8]\n",
    "flattened = []\n",
    "\n",
    "def flatten(lst):\n",
    "    for item in lst:\n",
    "        if isinstance(item, list):  # Check if item is a list\n",
    "            flatten(item)  # Recursively flatten\n",
    "        else:\n",
    "            flattened.append(item)\n",
    "\n",
    "flatten(nested_list)\n",
    "print(\"Flattened list:\", flattened)\n"
   ]
  },
  {
   "cell_type": "code",
   "execution_count": 38,
   "id": "5873c89f-e8ac-49d2-8fc5-4ee6c97afc8c",
   "metadata": {},
   "outputs": [],
   "source": [
    "# 8. Write a Python program to find the sum of the elements in a list, excluding the largest\n",
    "# and smallest element. Don’t use max or min functions\n",
    "# a. numbers = [1, 2, 3, 4, 5]\n",
    "# b. Sum excluding the largest and smallest element: 9"
   ]
  },
  {
   "cell_type": "code",
   "execution_count": 40,
   "id": "7df5d478-76bc-4285-be57-da7e1ef769e5",
   "metadata": {},
   "outputs": [
    {
     "name": "stdout",
     "output_type": "stream",
     "text": [
      "smallest number is: 1\n",
      "largest number is: 5\n",
      "sum of excluding large and small value: 9\n"
     ]
    }
   ],
   "source": [
    "num = [1, 2, 3, 4, 5]\n",
    "small = num[0]\n",
    "large = num[0]\n",
    "sum = 0\n",
    "for i in range (0,len(num)) :\n",
    "    if num[i] >large:\n",
    "        large = num[i]\n",
    "\n",
    "    if num[i] <small :\n",
    "        small = num[i]\n",
    "\n",
    "print(\"smallest number is:\",small)\n",
    "print(\"largest number is:\",large)\n",
    "\n",
    "for i in range(len(num)):\n",
    "    if num[i]!=large and num[i]!=small:\n",
    "        sum+=num[i]\n",
    "\n",
    "print(\"sum of excluding large and small value:\",sum)"
   ]
  },
  {
   "cell_type": "code",
   "execution_count": 42,
   "id": "029667d8-9ef6-4163-b140-0bc8de09d5b1",
   "metadata": {},
   "outputs": [],
   "source": [
    "# 9. Write a Python program to check if a list is a palindrome (reads the same backward\n",
    "# as forward) using two pointer approach\n",
    "# a. numbers = [1, 2, 3, 2, 1]\n",
    "# b. True"
   ]
  },
  {
   "cell_type": "code",
   "execution_count": 44,
   "id": "3931a08d-ca9d-4d61-8464-04f0be18eda5",
   "metadata": {},
   "outputs": [
    {
     "name": "stdout",
     "output_type": "stream",
     "text": [
      "True\n"
     ]
    }
   ],
   "source": [
    "ls = [1, 2, 3, 2, 1]\n",
    "start = 0\n",
    "end = len(ls)-1\n",
    "palin = True\n",
    "\n",
    "while start < end:\n",
    "    if ls[start]!=ls[end]:\n",
    "        palin = False\n",
    "        break\n",
    "    start+=1\n",
    "    end-=1\n",
    "\n",
    "print(palin)              "
   ]
  },
  {
   "cell_type": "code",
   "execution_count": 46,
   "id": "3f34b4e6-2599-42fe-aa63-f8dd75941eca",
   "metadata": {},
   "outputs": [],
   "source": [
    "# 10. Write a function to remove duplicate elements from a list.\n",
    "# a. numbers = [1, 2, 3, 2, 4, 5, 1, 6]\n",
    "# b. [1, 2, 3, 4, 5, 6]"
   ]
  },
  {
   "cell_type": "code",
   "execution_count": 48,
   "id": "27846d05-9502-4ebd-9478-5a04e49813ec",
   "metadata": {},
   "outputs": [
    {
     "name": "stdout",
     "output_type": "stream",
     "text": [
      "removing the duplicate elements: [1, 2, 3, 4, 5, 6]\n"
     ]
    }
   ],
   "source": [
    "ls = [1, 2, 3, 2, 4, 5, 1, 6]\n",
    "ls1 = []\n",
    "for i in range(len(ls)):\n",
    "    if ls[i] not in ls1:\n",
    "        ls1.append(ls[i])\n",
    "\n",
    "print(\"removing the duplicate elements:\",ls1)"
   ]
  },
  {
   "cell_type": "code",
   "execution_count": 50,
   "id": "0e730048-ecff-43e0-824b-61bfa1ac1790",
   "metadata": {},
   "outputs": [],
   "source": [
    "# 11. Find Common Elements in Two Lists\n",
    "# a. list1 = [1, 2, 3, 4, 5]\n",
    "# b. list2 = [3, 4, 5, 6, 7]\n",
    "# c. Result: [3, 4, 5]"
   ]
  },
  {
   "cell_type": "code",
   "execution_count": 52,
   "id": "80d0ba66-1660-4e20-87e7-85d20138f0a1",
   "metadata": {},
   "outputs": [
    {
     "name": "stdout",
     "output_type": "stream",
     "text": [
      "common elements: [3, 4, 5]\n"
     ]
    }
   ],
   "source": [
    "list1 = [1, 2, 3, 4, 5]\n",
    "list2 = [3, 4, 5, 6, 7]\n",
    "ls = []\n",
    "for i in list1:\n",
    "    for j in list2:\n",
    "        if i==j:\n",
    "            ls.append(i)\n",
    "\n",
    "print(\"common elements:\",ls)\n",
    "            "
   ]
  },
  {
   "cell_type": "code",
   "execution_count": 54,
   "id": "9fbb600c-6359-44c9-a7b1-dc6f13298e9b",
   "metadata": {},
   "outputs": [],
   "source": [
    "# 12. Find the Longest Word in a List\n",
    "# a. words = [\"apple\", \"banana\", \"strawberry\", \"kiwi\"]\n",
    "# b. Strawberry"
   ]
  },
  {
   "cell_type": "code",
   "execution_count": 56,
   "id": "2b097a0c-6474-4a34-a810-576cc30dc518",
   "metadata": {},
   "outputs": [
    {
     "name": "stdout",
     "output_type": "stream",
     "text": [
      "longest word in a list: strawberry\n"
     ]
    }
   ],
   "source": [
    "words = [\"apple\", \"banana\", \"strawberry\", \"kiwi\"]\n",
    "ls = \"\"\n",
    "\n",
    "for i in words:\n",
    "    if len(i) > len(ls):\n",
    "        ls = i\n",
    "print(\"longest word in a list:\",ls)\n"
   ]
  },
  {
   "cell_type": "code",
   "execution_count": 58,
   "id": "5fab23ce-0c02-4fc6-bad0-0da925313084",
   "metadata": {},
   "outputs": [],
   "source": [
    "# 14. Find Missing Number in a List\n",
    "# You are given a list of n-1 numbers in the range 1 to n. One number is missing\n",
    "# from the sequence. Find the missing number.\n",
    "# a. numbers = [1, 2, 4, 5, 6]\n",
    "# b. 3"
   ]
  },
  {
   "cell_type": "code",
   "execution_count": 60,
   "id": "7bd11d07-6da8-4009-b7e0-5557cac8e2d6",
   "metadata": {},
   "outputs": [
    {
     "name": "stdout",
     "output_type": "stream",
     "text": [
      "missing number is : [3]\n"
     ]
    }
   ],
   "source": [
    "ls = [1, 2, 4, 5, 6]\n",
    "a = []\n",
    "for i in range(ls[0],ls[-1]):\n",
    "    if i not in ls:\n",
    "        a.append(i)\n",
    "print(\"missing number is :\",a)"
   ]
  },
  {
   "cell_type": "code",
   "execution_count": 62,
   "id": "a4a8461a-3115-44c1-877b-4976be37bc07",
   "metadata": {},
   "outputs": [],
   "source": [
    "# 15. Find the First Non-Repeating Element\n",
    "# Given a list of integers, find the first element that appears only once.\n",
    "# a. numbers = [4, 5, 1, 2, 0, 4, 5, 2]\n",
    "# b. Expected Output: 1"
   ]
  },
  {
   "cell_type": "code",
   "execution_count": 64,
   "id": "4185d44a-456f-4591-99bb-75ea8bf49a1f",
   "metadata": {},
   "outputs": [
    {
     "name": "stdout",
     "output_type": "stream",
     "text": [
      "1\n"
     ]
    }
   ],
   "source": [
    "numbers_15 = [4, 5, 1, 2, 0, 4, 5, 2]\n",
    "counts = {}\n",
    "for num in numbers_15:\n",
    "    counts[num] = counts.get(num, 0) + 1\n",
    "\n",
    "first_non_repeating = None\n",
    "for num in numbers_15:\n",
    "    if counts[num] == 1:\n",
    "        first_non_repeating = num\n",
    "        break\n",
    "\n",
    "print(first_non_repeating) "
   ]
  },
  {
   "cell_type": "code",
   "execution_count": 66,
   "id": "00565259-197e-4230-b984-ce02d26474c7",
   "metadata": {},
   "outputs": [],
   "source": [
    "# 16. Move All Zeros to the End\n",
    "# Given a list of integers, move all zeros to the end while maintaining the relative order\n",
    "# of non-zero elements. Don’t use any inbuilt functions\n",
    "# a. numbers = [0, 1, 0, 3, 12]\n",
    "# b. [1, 3, 12, 0, 0]"
   ]
  },
  {
   "cell_type": "code",
   "execution_count": 68,
   "id": "67cb2316-55e3-4c87-bd4c-bc2cd1151f1c",
   "metadata": {},
   "outputs": [
    {
     "name": "stdout",
     "output_type": "stream",
     "text": [
      "[1, 3, 12, 0, 0]\n"
     ]
    }
   ],
   "source": [
    "numbers_16 = [0, 1, 0, 3, 12]\n",
    "non_zero_index = 0\n",
    "\n",
    "for i in range(len(numbers_16)):\n",
    "    if numbers_16[i] != 0:\n",
    "        numbers_16[non_zero_index], numbers_16[i] = numbers_16[i], numbers_16[non_zero_index]\n",
    "        non_zero_index += 1\n",
    "\n",
    "print(numbers_16)"
   ]
  },
  {
   "cell_type": "code",
   "execution_count": 70,
   "id": "3b2477e7-0291-4c30-894a-da5a66d80c92",
   "metadata": {},
   "outputs": [],
   "source": [
    "# 17. Find Elements Greater Than Their Left Neighbor\n",
    "# a. numbers = [1, 3, 2, 6, 5, 8, 7]\n",
    "# b. [3, 6, 8]"
   ]
  },
  {
   "cell_type": "code",
   "execution_count": 72,
   "id": "de3d92a2-9352-4c1d-98eb-c47ae65e3775",
   "metadata": {},
   "outputs": [
    {
     "name": "stdout",
     "output_type": "stream",
     "text": [
      "[3, 6, 8]\n"
     ]
    }
   ],
   "source": [
    "numbers_17 = [1, 3, 2, 6, 5, 8, 7]\n",
    "greater_than_left = [numbers_17[i] for i in range(1, len(numbers_17)) if numbers_17[i] > numbers_17[i - 1]]\n",
    "\n",
    "print(greater_than_left) "
   ]
  },
  {
   "cell_type": "code",
   "execution_count": 74,
   "id": "4ff2910e-c541-45e7-a70f-9675ee46c496",
   "metadata": {},
   "outputs": [],
   "source": [
    "# 18. Find Triplets That Sum to Zero\n",
    "# Given a list of numbers, find all unique triplets (a, b, c) such that a + b + c = 0.\n",
    "# a. numbers = [-1, 0, 1, 2, -1, -4]\n",
    "# b. Expected Output: [(-1, -1, 2), (-1, 0, 1)]"
   ]
  },
  {
   "cell_type": "code",
   "execution_count": 76,
   "id": "e3c7ed92-b9c5-4d2e-a417-0b13af6afbf6",
   "metadata": {},
   "outputs": [
    {
     "name": "stdout",
     "output_type": "stream",
     "text": [
      "[(-1, 0, 1), (-1, -1, 2)]\n"
     ]
    }
   ],
   "source": [
    "numbers_18 = [-1, 0, 1, 2, -1, -4]\n",
    "numbers_18.sort()\n",
    "result = set()\n",
    "\n",
    "for i in range(len(numbers_18) - 2):\n",
    "    left, right = i + 1, len(numbers_18) - 1\n",
    "    while left < right:\n",
    "        total = numbers_18[i] + numbers_18[left] + numbers_18[right]\n",
    "        if total == 0:\n",
    "            result.add((numbers_18[i], numbers_18[left], numbers_18[right]))\n",
    "            left += 1\n",
    "            right -= 1\n",
    "        elif total < 0:\n",
    "            left += 1\n",
    "        else:\n",
    "            right -= 1\n",
    "\n",
    "print(list(result)) "
   ]
  }
 ],
 "metadata": {
  "kernelspec": {
   "display_name": "Python 3 (ipykernel)",
   "language": "python",
   "name": "python3"
  },
  "language_info": {
   "codemirror_mode": {
    "name": "ipython",
    "version": 3
   },
   "file_extension": ".py",
   "mimetype": "text/x-python",
   "name": "python",
   "nbconvert_exporter": "python",
   "pygments_lexer": "ipython3",
   "version": "3.12.4"
  }
 },
 "nbformat": 4,
 "nbformat_minor": 5
}
