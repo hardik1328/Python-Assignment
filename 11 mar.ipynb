{
 "cells": [
  {
   "cell_type": "markdown",
   "id": "7ee0dad3-6af9-4b30-93c3-dc241d0db76d",
   "metadata": {},
   "source": [
    "# Patterns "
   ]
  },
  {
   "cell_type": "code",
   "execution_count": 32,
   "id": "23f9e4d9-df69-4ddd-a7ca-70742a9df0bd",
   "metadata": {},
   "outputs": [
    {
     "name": "stdout",
     "output_type": "stream",
     "text": [
      "****\n",
      " ****\n",
      "  ****\n",
      "   ****\n"
     ]
    }
   ],
   "source": [
    "for i in range(5,1,-1):\n",
    "    for j in range(i,5):\n",
    "        print(\" \",end = '')\n",
    "    for k in range(1,5):\n",
    "        print(\"*\",end = '')\n",
    "    print()\n",
    "        "
   ]
  },
  {
   "cell_type": "code",
   "execution_count": 5,
   "id": "4fca035f-0413-49b9-84f0-fcf00dde2cb5",
   "metadata": {},
   "outputs": [
    {
     "name": "stdout",
     "output_type": "stream",
     "text": [
      "******\n",
      "*    *    \n",
      "*    *    \n",
      "******\n"
     ]
    }
   ],
   "source": [
    "num = 4\n",
    "for i in range(1,5):\n",
    "    for j in range(1,num+3):\n",
    "        if i==1 or j==1 or j==num or i==num:\n",
    "            print(\"*\",end = \"\")\n",
    "        else:\n",
    "            print(\" \",end = \" \")\n",
    "    print()"
   ]
  },
  {
   "cell_type": "code",
   "execution_count": 79,
   "id": "8c7afb46-3938-4424-92c9-00e459b04418",
   "metadata": {},
   "outputs": [
    {
     "name": "stdout",
     "output_type": "stream",
     "text": [
      "A\n",
      "BB\n",
      "CCC\n",
      "DDDD\n",
      "EEEEE\n"
     ]
    }
   ],
   "source": [
    "x = 65\n",
    "for i in range(1,6):\n",
    "    \n",
    "    \n",
    "    \n",
    "    for j in range(i):\n",
    "        print(chr(x),end = '')\n",
    "    x+=1\n",
    "            \n",
    "    print()\n",
    "        "
   ]
  },
  {
   "cell_type": "code",
   "execution_count": 81,
   "id": "6a2e11e1-c63b-4298-82f2-8bf64d015582",
   "metadata": {},
   "outputs": [
    {
     "name": "stdout",
     "output_type": "stream",
     "text": [
      "A\n",
      "AB\n",
      "ABC\n",
      "ABCD\n",
      "ABCDE\n"
     ]
    }
   ],
   "source": [
    "\n",
    "for i in range(1,6):\n",
    "    x = 65\n",
    "    \n",
    "    \n",
    "    \n",
    "    for j in range(1,i+1):\n",
    "        print(chr(x),end = '')\n",
    "        x+=1\n",
    "            \n",
    "    print()\n",
    "        "
   ]
  },
  {
   "cell_type": "code",
   "execution_count": 101,
   "id": "ef3d6f8d-5266-426d-abca-ed800d4a5151",
   "metadata": {},
   "outputs": [
    {
     "name": "stdout",
     "output_type": "stream",
     "text": [
      "E\n",
      "DE\n",
      "CDE\n",
      "BCDE\n",
      "ABCDE\n"
     ]
    }
   ],
   "source": [
    "for i in range(5,0,-1):\n",
    "    num = 64+i\n",
    "    for j in range(i,6):\n",
    "        print(chr(num),end = '')\n",
    "        num +=1\n",
    "    print()\n",
    "    "
   ]
  },
  {
   "cell_type": "code",
   "execution_count": 115,
   "id": "5d0c307b-2915-4044-81fa-852f1ca2eba0",
   "metadata": {},
   "outputs": [
    {
     "name": "stdout",
     "output_type": "stream",
     "text": [
      "     *****\n",
      "    *****\n",
      "   *****\n",
      "  *****\n",
      " *****\n"
     ]
    }
   ],
   "source": [
    "for i in range(6,1,-1):\n",
    "    for j in range(1,i):\n",
    "        print(\" \",end = '')\n",
    "    for k in range(1,6):\n",
    "        print(\"*\",end = '')\n",
    "    print()\n",
    "        "
   ]
  },
  {
   "cell_type": "code",
   "execution_count": 121,
   "id": "41659c62-f3a9-4e91-8e43-a9e04bb7bd3b",
   "metadata": {},
   "outputs": [
    {
     "name": "stdout",
     "output_type": "stream",
     "text": [
      "    12345\n",
      "   12345\n",
      "  12345\n",
      " 12345\n"
     ]
    }
   ],
   "source": [
    "for i in range(5,1,-1):\n",
    "    for j in range(1,i):\n",
    "        print(\" \",end = '')\n",
    "    for k in range(1,6):\n",
    "        print(k,end = '')\n",
    "    print()\n",
    "        "
   ]
  },
  {
   "cell_type": "code",
   "execution_count": 123,
   "id": "f33e9108-40c9-45b2-9657-95e54a7ae82d",
   "metadata": {},
   "outputs": [
    {
     "name": "stdout",
     "output_type": "stream",
     "text": [
      "    ABCDE\n",
      "   ABCDE\n",
      "  ABCDE\n",
      " ABCDE\n"
     ]
    }
   ],
   "source": [
    "for i in range(5,1,-1):\n",
    "    for j in range(1,i):\n",
    "        print(\" \",end = '')\n",
    "        num = 65\n",
    "    for k in range(1,6):\n",
    "        print(chr(num),end = '')\n",
    "        num+=1\n",
    "    print()\n",
    "        "
   ]
  },
  {
   "cell_type": "code",
   "execution_count": 135,
   "id": "d8fbd338-0748-45a5-b194-de7068c7c9e7",
   "metadata": {},
   "outputs": [
    {
     "name": "stdout",
     "output_type": "stream",
     "text": [
      "    *\n",
      "   **\n",
      "  ***\n",
      " ****\n",
      "*****\n"
     ]
    }
   ],
   "source": [
    "for i in range(1,6):\n",
    "    for j in range(i,5):\n",
    "        print(\" \",end = '')\n",
    "    for k in range(1,i+1):\n",
    "        print(\"*\",end = '')\n",
    "    print()"
   ]
  },
  {
   "cell_type": "code",
   "execution_count": 139,
   "id": "771d91fa-34b5-409d-90f4-9e3011c17bcf",
   "metadata": {},
   "outputs": [
    {
     "name": "stdout",
     "output_type": "stream",
     "text": [
      "    1\n",
      "   12\n",
      "  123\n",
      " 1234\n",
      "12345\n"
     ]
    }
   ],
   "source": [
    "for i in range(1,6):\n",
    "    for j in range(i,5):\n",
    "        print(\" \",end = '')\n",
    "    for k in range(1,i+1):\n",
    "        print(k,end = '')\n",
    "    print()"
   ]
  },
  {
   "cell_type": "code",
   "execution_count": 171,
   "id": "3d2ab27c-027a-405a-848c-1079368e1948",
   "metadata": {},
   "outputs": [
    {
     "name": "stdout",
     "output_type": "stream",
     "text": [
      "12345\n",
      "-1234\n",
      "--123\n",
      "---12\n",
      "----1\n"
     ]
    }
   ],
   "source": [
    "n=6\n",
    "for i in range(1,6):\n",
    "    for j in range(1,i):\n",
    "        print(\"-\",end = '')\n",
    "    for k in range(1,n-i+1):\n",
    "        print(k,end = '')\n",
    "    print()"
   ]
  },
  {
   "cell_type": "code",
   "execution_count": 43,
   "id": "26cdbc56-f8b9-46e2-af79-8407795a6400",
   "metadata": {},
   "outputs": [
    {
     "name": "stdout",
     "output_type": "stream",
     "text": [
      "    *\n",
      "   ***\n",
      "  *****\n",
      " *******\n"
     ]
    }
   ],
   "source": [
    "for i in range(1,5):\n",
    "    for j in range(i,5):\n",
    "        print(\" \",end = \"\")\n",
    "    for k in range(1,i*2):\n",
    "        print(\"*\",end = \"\")\n",
    "    print()"
   ]
  },
  {
   "cell_type": "code",
   "execution_count": 11,
   "id": "a69e9564-f5b0-45f2-92a9-fd222e5a87ad",
   "metadata": {},
   "outputs": [
    {
     "name": "stdout",
     "output_type": "stream",
     "text": [
      "ABCDE\n",
      " ABCD\n",
      "  ABC\n",
      "   AB\n",
      "    A\n"
     ]
    }
   ],
   "source": [
    "for i in range(5,0,-1):\n",
    "    x = 65\n",
    "    for j in range(i,5):\n",
    "        print(\" \",end = \"\")\n",
    "    for k in range(1,i+1):\n",
    "        print(chr(x),end = \"\")\n",
    "        x+=1\n",
    "    print()"
   ]
  },
  {
   "cell_type": "code",
   "execution_count": 33,
   "id": "a0f760ef-a6e8-4a9f-9209-a9711cd25a8a",
   "metadata": {},
   "outputs": [
    {
     "name": "stdout",
     "output_type": "stream",
     "text": [
      "*******\n",
      " *****\n",
      "  ***\n",
      "   *\n"
     ]
    }
   ],
   "source": [
    "for i in range(4,0,-1):\n",
    "    for j in range(i,4):\n",
    "        print(\" \",end = \"\")\n",
    "    for k in range(1,i*2):\n",
    "        print(\"*\",end = \"\")\n",
    "    print()"
   ]
  },
  {
   "cell_type": "code",
   "execution_count": 37,
   "id": "e946c24a-1bc7-4757-9ef4-d36157d16fbb",
   "metadata": {},
   "outputs": [
    {
     "name": "stdout",
     "output_type": "stream",
     "text": [
      "   *\n",
      "  * *\n",
      " *   *\n",
      "*******\n"
     ]
    }
   ],
   "source": [
    "for i in range(1,5):\n",
    "    for j in range(i,4):\n",
    "        print(\" \",end = \"\")\n",
    "    for k in range(1,2*i):\n",
    "        if(k==1 or i==4 or k==2*i-1):\n",
    "            print(\"*\",end = \"\")\n",
    "        else:\n",
    "            print(\" \",end = \"\")\n",
    "    print()"
   ]
  },
  {
   "cell_type": "code",
   "execution_count": 49,
   "id": "ded7d0e6-4895-4471-962f-7736694efa71",
   "metadata": {},
   "outputs": [
    {
     "name": "stdout",
     "output_type": "stream",
     "text": [
      "*\n",
      "**\n",
      "***\n",
      "****\n",
      "***\n",
      "**\n",
      "*\n"
     ]
    }
   ],
   "source": [
    "for i in range(1,5):\n",
    "    for j in range(1,i+1):\n",
    "        print(\"*\",end = \"\")\n",
    "    print()\n",
    "for i in range(3,0,-1):\n",
    "    for j in range(1,i+1):\n",
    "        print(\"*\",end = \"\")\n",
    "    print()"
   ]
  },
  {
   "cell_type": "code",
   "execution_count": 81,
   "id": "6d632e4e-5689-430d-b2cc-cae896d7d7fc",
   "metadata": {},
   "outputs": [
    {
     "name": "stdout",
     "output_type": "stream",
     "text": [
      "---*\n",
      "--**\n",
      "-***\n",
      "****\n",
      "-***\n",
      "--**\n",
      "---*\n"
     ]
    }
   ],
   "source": [
    "for i in range(1,5):\n",
    "    for j in range(i,4):\n",
    "        print(\"-\",end = \"\")\n",
    "    for k in range(1,i+1):\n",
    "        print(\"*\",end = \"\")\n",
    "    print()\n",
    "\n",
    "for i in range(3,0,-1):\n",
    "    for j in range(i,4):\n",
    "        print(\"-\",end =\"\")\n",
    "    for k in range(1,i+1):\n",
    "        print(\"*\",end = \"\")\n",
    "    print()"
   ]
  },
  {
   "cell_type": "code",
   "execution_count": 101,
   "id": "b2abca25-7a33-4a64-8fef-1f940d3a3df9",
   "metadata": {},
   "outputs": [
    {
     "name": "stdout",
     "output_type": "stream",
     "text": [
      "---*\n",
      "--***\n",
      "-*****\n",
      "*******\n",
      "-*****\n",
      "--***\n",
      "---*\n"
     ]
    }
   ],
   "source": [
    "for i in range(1,5):\n",
    "    for j in range(i,4):\n",
    "        print(\"-\",end = \"\")\n",
    "    for k in range(1,i*2):\n",
    "        print(\"*\",end = \"\")\n",
    "    print()\n",
    "\n",
    "for i in range(3,0,-1):\n",
    "    for j in range(i,4):\n",
    "        print(\"-\",end = \"\")\n",
    "    for k in range(1,i*2):\n",
    "        print(\"*\",end = \"\")\n",
    "    print()"
   ]
  },
  {
   "cell_type": "code",
   "execution_count": 103,
   "id": "33bcf785-dde8-4bb8-9f44-6b7cd8ed78e9",
   "metadata": {},
   "outputs": [
    {
     "name": "stdout",
     "output_type": "stream",
     "text": [
      "1\n",
      "12\n",
      "123\n",
      "1234\n",
      "12345\n"
     ]
    }
   ],
   "source": [
    "for i in range(1,6):\n",
    "    for j in range(1,i+1):\n",
    "        print(j,end = \"\")\n",
    "    print()"
   ]
  },
  {
   "cell_type": "code",
   "execution_count": 109,
   "id": "15b527a7-813f-4a18-82e4-2e4d1d8bf8c1",
   "metadata": {},
   "outputs": [
    {
     "name": "stdout",
     "output_type": "stream",
     "text": [
      "12345\n",
      "1234\n",
      "123\n",
      "12\n",
      "1\n"
     ]
    }
   ],
   "source": [
    "for i in range(5,0,-1):\n",
    "    for j in range(1,i+1):\n",
    "        print(j,end = \"\")\n",
    "    print()"
   ]
  },
  {
   "cell_type": "code",
   "execution_count": 135,
   "id": "740d6698-cfac-49ca-8739-c2695bb7ea15",
   "metadata": {},
   "outputs": [
    {
     "name": "stdout",
     "output_type": "stream",
     "text": [
      "1 \n",
      "1 2 \n",
      "1   3 \n",
      "1     4 \n",
      "1 2 3 4 5 \n"
     ]
    }
   ],
   "source": [
    "for i in range(1,6):\n",
    "    for j in range(1,i+1):\n",
    "        if   j==1  or i==j or  i==5 :\n",
    "            print(j,end = \" \")\n",
    "        else:\n",
    "            print(\" \",end = \" \")\n",
    "    print()"
   ]
  },
  {
   "cell_type": "code",
   "execution_count": 147,
   "id": "8e5b911a-6c0b-4c33-83f0-5547c51f2d7b",
   "metadata": {},
   "outputs": [
    {
     "name": "stdout",
     "output_type": "stream",
     "text": [
      "----*\n",
      "---***\n",
      "--*****\n",
      "-*******\n",
      "*********\n",
      "-*******\n",
      "--*****\n",
      "---***\n",
      "----*\n"
     ]
    }
   ],
   "source": [
    "for i in range(1,6):\n",
    "    for j in range(i,5):\n",
    "        print(\"-\",end = \"\")\n",
    "    for k in range(1,i*2):\n",
    "        print(\"*\",end = \"\")\n",
    "    print()\n",
    "\n",
    "for i in range(4,0,-1):\n",
    "    for j in range(i,5):\n",
    "        print(\"-\",end = \"\")\n",
    "    for k in range(1,i*2):\n",
    "        print(\"*\",end = \"\")\n",
    "    print()"
   ]
  },
  {
   "cell_type": "code",
   "execution_count": 183,
   "id": "fdbd15a8-7e44-46e8-8b23-005f46d6d9a1",
   "metadata": {},
   "outputs": [
    {
     "name": "stdout",
     "output_type": "stream",
     "text": [
      "- - - - 1 \n",
      "- - - 1 2 3 \n",
      "- - 1 2 3 4 5 \n",
      "- 1 2 3 4 5 6 7 \n",
      "1 2 3 4 5 6 7 8 9 \n",
      "- 1 2 3 4 5 6 7 \n",
      "- - 1 2 3 4 5 \n",
      "- - - 1 2 3 \n",
      "- - - - 1 \n"
     ]
    }
   ],
   "source": [
    "for i in range(1,6):\n",
    "    for j in range(i,5):\n",
    "        print(\"-\",end = \" \")\n",
    "    for k in range(1,2*i):\n",
    "        print(k,end = \" \")\n",
    "    print()\n",
    "for i in range(4,0,-1):\n",
    "    for j in range(i,5):\n",
    "        print(\"-\",end = \" \")\n",
    "    for k in range(1,2*i):\n",
    "        print(k,end = \" \")\n",
    "    print()"
   ]
  },
  {
   "cell_type": "code",
   "execution_count": 197,
   "id": "24848b12-d858-4a7b-b899-79becc379d01",
   "metadata": {},
   "outputs": [
    {
     "name": "stdout",
     "output_type": "stream",
     "text": [
      "1 2 3 4 5 6 7 8 9 \n",
      "- 1 2 3 4 5 6 7 \n",
      "- - 1 2 3 4 5 \n",
      "- - - 1 2 3 \n",
      "- - - - 1 \n",
      "- - - 1 2 3 \n",
      "- - 1 2 3 4 5 \n",
      "- 1 2 3 4 5 6 7 \n",
      "1 2 3 4 5 6 7 8 9 \n"
     ]
    }
   ],
   "source": [
    "for i in range(5,0,-1):\n",
    "    for j in range(i,5):\n",
    "        print(\"-\",end = \" \")\n",
    "    for k in range(1,2*i):\n",
    "        print(k,end = \" \")\n",
    "    print()\n",
    "for i in range(2,6):\n",
    "    for j in range(i,5):\n",
    "        print(\"-\",end = \" \")\n",
    "    for k in range(1,2*i):\n",
    "        print(k,end = \" \")\n",
    "    print()"
   ]
  },
  {
   "cell_type": "code",
   "execution_count": 209,
   "id": "52fdb7b8-d2c0-42c8-919f-015b71c3d45d",
   "metadata": {},
   "outputs": [
    {
     "name": "stdout",
     "output_type": "stream",
     "text": [
      "A B C D E F G H I \n",
      "- A B C D E F G \n",
      "- - A B C D E \n",
      "- - - A B C \n",
      "- - - - A \n",
      "- - - A B C \n",
      "- - A B C D E \n",
      "- A B C D E F G \n",
      "A B C D E F G H I \n"
     ]
    }
   ],
   "source": [
    "for i in range(5,0,-1):\n",
    "    x = 65\n",
    "    for j in range(i,5):\n",
    "        print(\"-\",end = \" \")\n",
    "    for k in range(1,2*i):\n",
    "        print(chr(x),end = \" \")\n",
    "        x += 1\n",
    "    print()\n",
    "for i in range(2,6):\n",
    "    x = 65\n",
    "    for j in range(i,5):\n",
    "        print(\"-\",end = \" \")\n",
    "    for k in range(1,2*i):\n",
    "        print(chr(x),end = \" \")\n",
    "        x+=1\n",
    "    print()"
   ]
  },
  {
   "cell_type": "code",
   "execution_count": null,
   "id": "4479a659-18d4-4f0e-8afb-aa9277dcdbbd",
   "metadata": {},
   "outputs": [],
   "source": []
  }
 ],
 "metadata": {
  "kernelspec": {
   "display_name": "Python 3 (ipykernel)",
   "language": "python",
   "name": "python3"
  },
  "language_info": {
   "codemirror_mode": {
    "name": "ipython",
    "version": 3
   },
   "file_extension": ".py",
   "mimetype": "text/x-python",
   "name": "python",
   "nbconvert_exporter": "python",
   "pygments_lexer": "ipython3",
   "version": "3.12.4"
  }
 },
 "nbformat": 4,
 "nbformat_minor": 5
}
