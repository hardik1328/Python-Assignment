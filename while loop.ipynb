{
 "cells": [
  {
   "cell_type": "markdown",
   "id": "735d63a0-2fb3-413f-b2dd-4c641108856b",
   "metadata": {},
   "source": [
    "# using while loop"
   ]
  },
  {
   "cell_type": "markdown",
   "id": "07ec597c-95a3-4e9e-bb03-73dace2bf4a3",
   "metadata": {},
   "source": [
    "# 1. Write a program to print all natural numbers from 1 to n. p"
   ]
  },
  {
   "cell_type": "code",
   "execution_count": 2,
   "id": "56829529-bacf-436c-8c2c-168189430617",
   "metadata": {},
   "outputs": [
    {
     "name": "stdout",
     "output_type": "stream",
     "text": [
      "1\n",
      "2\n",
      "3\n",
      "4\n",
      "5\n",
      "6\n",
      "7\n",
      "8\n",
      "9\n"
     ]
    }
   ],
   "source": [
    "i =1\n",
    "while(i<10):\n",
    "    print(i)\n",
    "    i +=1"
   ]
  },
  {
   "cell_type": "markdown",
   "id": "fe045b35-5585-4439-aba7-8d0452f44f95",
   "metadata": {},
   "source": [
    "# 2. Write a program to print all natural numbers in reverse (from n to 1)."
   ]
  },
  {
   "cell_type": "code",
   "execution_count": 4,
   "id": "9e744007-54f7-479e-994f-686e61e7b0e8",
   "metadata": {},
   "outputs": [
    {
     "name": "stdout",
     "output_type": "stream",
     "text": [
      "10\n",
      "9\n",
      "8\n",
      "7\n",
      "6\n",
      "5\n",
      "4\n",
      "3\n",
      "2\n"
     ]
    }
   ],
   "source": [
    "i =10\n",
    "while(i>1):\n",
    "    print(i)\n",
    "    i -=1"
   ]
  },
  {
   "cell_type": "markdown",
   "id": "71f7ef78-3baa-4546-a963-20f435c6dd7b",
   "metadata": {},
   "source": [
    "# 4. Write a program to print all even numbers between 1 to 100."
   ]
  },
  {
   "cell_type": "code",
   "execution_count": 14,
   "id": "349f5b0c-2012-428f-a6ce-100ddc6c6773",
   "metadata": {},
   "outputs": [
    {
     "name": "stdout",
     "output_type": "stream",
     "text": [
      "print even numbers 2\n",
      "print even numbers 4\n",
      "print even numbers 6\n",
      "print even numbers 8\n",
      "print even numbers 10\n",
      "print even numbers 12\n",
      "print even numbers 14\n",
      "print even numbers 16\n",
      "print even numbers 18\n",
      "print even numbers 20\n",
      "print even numbers 22\n",
      "print even numbers 24\n",
      "print even numbers 26\n",
      "print even numbers 28\n",
      "print even numbers 30\n",
      "print even numbers 32\n",
      "print even numbers 34\n",
      "print even numbers 36\n",
      "print even numbers 38\n",
      "print even numbers 40\n",
      "print even numbers 42\n",
      "print even numbers 44\n",
      "print even numbers 46\n",
      "print even numbers 48\n",
      "print even numbers 50\n",
      "print even numbers 52\n",
      "print even numbers 54\n",
      "print even numbers 56\n",
      "print even numbers 58\n",
      "print even numbers 60\n",
      "print even numbers 62\n",
      "print even numbers 64\n",
      "print even numbers 66\n",
      "print even numbers 68\n",
      "print even numbers 70\n",
      "print even numbers 72\n",
      "print even numbers 74\n",
      "print even numbers 76\n",
      "print even numbers 78\n",
      "print even numbers 80\n",
      "print even numbers 82\n",
      "print even numbers 84\n",
      "print even numbers 86\n",
      "print even numbers 88\n",
      "print even numbers 90\n",
      "print even numbers 92\n",
      "print even numbers 94\n",
      "print even numbers 96\n",
      "print even numbers 98\n",
      "print even numbers 100\n"
     ]
    }
   ],
   "source": [
    "i = 1\n",
    "while(i<=100):\n",
    "    if(i%2==0):\n",
    "        print(\"print even numbers\",i)\n",
    "        \n",
    "    \n",
    "    i += 1\n",
    "  \n",
    "    \n",
    " "
   ]
  },
  {
   "cell_type": "markdown",
   "id": "2f743320-4026-470c-a0dd-b2f03c6016d7",
   "metadata": {},
   "source": [
    "# 5.Write a program to find the sum of all odd numbers between 1 to n. "
   ]
  },
  {
   "cell_type": "code",
   "execution_count": 22,
   "id": "3fc357cb-cce2-498b-9017-e462016a1de6",
   "metadata": {},
   "outputs": [
    {
     "name": "stdout",
     "output_type": "stream",
     "text": [
      "print odd numbers 101 2500\n"
     ]
    }
   ],
   "source": [
    "i = 1\n",
    "a = 0\n",
    "while(i<=100):\n",
    "    if(i%2==1):\n",
    "        a += i\n",
    "        \n",
    "        \n",
    "    \n",
    "    i += 1\n",
    "print(\"print odd numbers\",i,a)  \n",
    "    \n",
    " "
   ]
  },
  {
   "cell_type": "markdown",
   "id": "9167428c-0dc1-43cf-96b3-bcb4002bf3d6",
   "metadata": {},
   "source": [
    "# 6. Write a program to count the number of digits in a number."
   ]
  },
  {
   "cell_type": "code",
   "execution_count": 16,
   "id": "1b484e41-b142-44b1-a790-96b491178d2e",
   "metadata": {},
   "outputs": [
    {
     "name": "stdout",
     "output_type": "stream",
     "text": [
      "1 2 3 4 5 6 7 8 9 10 11 12 13 14 15 16 17 18 19 20 "
     ]
    }
   ],
   "source": [
    "i = 7\n",
    "count = 0\n",
    "\n",
    "while i < 27:\n",
    "    count += 1\n",
    "    print(count, end = ' ')\n",
    "    i += 1  \n"
   ]
  },
  {
   "cell_type": "markdown",
   "id": "4b00dc16-5e29-4620-8c26-ddf684276856",
   "metadata": {},
   "source": [
    "# 7. Write a program to calculate the sum of digits of a number."
   ]
  },
  {
   "cell_type": "code",
   "execution_count": 30,
   "id": "4f08196f-0739-49f0-bf0b-192a1d967fea",
   "metadata": {},
   "outputs": [
    {
     "name": "stdin",
     "output_type": "stream",
     "text": [
      "enter your number: 345\n"
     ]
    },
    {
     "name": "stdout",
     "output_type": "stream",
     "text": [
      "12\n"
     ]
    }
   ],
   "source": [
    "num = int(input(\"enter your number:\"))\n",
    "\n",
    "a = 0\n",
    "while(num>0):\n",
    "    a = a+ num%10 \n",
    "    num = num//10\n",
    "    \n",
    "print(a)"
   ]
  },
  {
   "cell_type": "markdown",
   "id": "dae74956-48cf-447b-8857-e141173a5d8d",
   "metadata": {},
   "source": [
    "# 8. Write a program to find the first and last digit of a number."
   ]
  },
  {
   "cell_type": "code",
   "execution_count": 36,
   "id": "caf2e939-6da5-45f9-97ee-83cf1cded884",
   "metadata": {},
   "outputs": [
    {
     "name": "stdin",
     "output_type": "stream",
     "text": [
      "enter the number: 2345\n"
     ]
    },
    {
     "name": "stdout",
     "output_type": "stream",
     "text": [
      "print the first digit 2 and print the last digit 5\n"
     ]
    }
   ],
   "source": [
    "n = int(input(\"enter the number:\"))\n",
    "rem = 0\n",
    "last = n%10\n",
    "first = 0\n",
    "while(n>0):\n",
    "    first = n%10\n",
    "    n = n//10\n",
    "print(f\"print the first digit {first} and print the last digit {last}\")\n",
    "    \n",
    "\n"
   ]
  },
  {
   "cell_type": "markdown",
   "id": "74d3fa42-9fec-405c-bf98-af1fdf287b6b",
   "metadata": {},
   "source": [
    "# 9. Write a program to find the sum of first and last digit of a number."
   ]
  },
  {
   "cell_type": "code",
   "execution_count": 47,
   "id": "3e4ea101-c4bc-4b96-97b8-e79c252679dc",
   "metadata": {},
   "outputs": [
    {
     "name": "stdin",
     "output_type": "stream",
     "text": [
      "enter the number: 8463\n"
     ]
    },
    {
     "name": "stdout",
     "output_type": "stream",
     "text": [
      "print the first digit 8 and print the last digit 3\n",
      "sum of first and last digit 11\n"
     ]
    }
   ],
   "source": [
    "n = int(input(\"enter the number:\"))\n",
    "rem = 0\n",
    "last = n%10\n",
    "first = 0\n",
    "sum=0\n",
    "while(n>0):\n",
    "    first = n%10\n",
    "    \n",
    "    n = n//10\n",
    "    sum = first + last\n",
    "print(f\"print the first digit {first} and print the last digit {last}\")\n",
    "print(\"sum of first and last digit\",sum)\n",
    "    \n",
    "\n"
   ]
  },
  {
   "cell_type": "markdown",
   "id": "f962f74d-04a5-4295-98ac-4d13d0f491a9",
   "metadata": {},
   "source": [
    "# 10.Write a program to enter a number and print its reverse."
   ]
  },
  {
   "cell_type": "code",
   "execution_count": 54,
   "id": "b12fa245-b6b9-477b-9333-9f7883d9e8c3",
   "metadata": {},
   "outputs": [
    {
     "name": "stdin",
     "output_type": "stream",
     "text": [
      "enter your number : 5678\n"
     ]
    },
    {
     "name": "stdout",
     "output_type": "stream",
     "text": [
      "8765\n"
     ]
    }
   ],
   "source": [
    "n=int(input(\"enter your number :\"))\n",
    "sum=0\n",
    "rem=0\n",
    "while(n>0):\n",
    "    rem=n%10\n",
    "    sum=sum*10+rem\n",
    "    n=n//10\n",
    "print(sum)"
   ]
  },
  {
   "cell_type": "code",
   "execution_count": null,
   "id": "dfba626b-c9ef-47df-bba4-6e2b79e0c5cc",
   "metadata": {},
   "outputs": [],
   "source": []
  }
 ],
 "metadata": {
  "kernelspec": {
   "display_name": "Python 3 (ipykernel)",
   "language": "python",
   "name": "python3"
  },
  "language_info": {
   "codemirror_mode": {
    "name": "ipython",
    "version": 3
   },
   "file_extension": ".py",
   "mimetype": "text/x-python",
   "name": "python",
   "nbconvert_exporter": "python",
   "pygments_lexer": "ipython3",
   "version": "3.12.4"
  }
 },
 "nbformat": 4,
 "nbformat_minor": 5
}
