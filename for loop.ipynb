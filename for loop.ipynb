{
 "cells": [
  {
   "cell_type": "markdown",
   "id": "ec47671b-e0c4-458d-9662-521901e35480",
   "metadata": {},
   "source": [
    "# Question on for loop"
   ]
  },
  {
   "cell_type": "markdown",
   "id": "c4166298-a8b3-418a-a52e-e24a5e45fbf9",
   "metadata": {},
   "source": [
    "# 1. Write a program to print all natural numbers from 1 to n."
   ]
  },
  {
   "cell_type": "code",
   "execution_count": 9,
   "id": "593ed2ca-275c-49c2-9d14-6a2d272268cc",
   "metadata": {},
   "outputs": [
    {
     "name": "stdout",
     "output_type": "stream",
     "text": [
      "1\n",
      "2\n",
      "3\n",
      "4\n",
      "5\n",
      "6\n",
      "7\n",
      "8\n",
      "9\n"
     ]
    }
   ],
   "source": [
    "n=10\n",
    "for i in range(1,n):\n",
    "    print(i)"
   ]
  },
  {
   "cell_type": "markdown",
   "id": "58a47660-4267-4f8c-9d2d-a3d383135ea0",
   "metadata": {},
   "source": [
    "# 2. Write a program to print all natural numbers in reverse (from n to 1)."
   ]
  },
  {
   "cell_type": "code",
   "execution_count": 13,
   "id": "13975e8d-a97c-4e70-a6fc-ebb0f80312b3",
   "metadata": {},
   "outputs": [
    {
     "name": "stdout",
     "output_type": "stream",
     "text": [
      "10\n",
      "9\n",
      "8\n",
      "7\n",
      "6\n",
      "5\n",
      "4\n",
      "3\n",
      "2\n"
     ]
    }
   ],
   "source": [
    "n=10\n",
    "for i in range(n,1,-1):\n",
    "    print(i)"
   ]
  },
  {
   "cell_type": "markdown",
   "id": "0c29011d-60fe-45f0-a770-87087c201cb9",
   "metadata": {},
   "source": [
    "# 3. Write a program to print all alphabets from a to z."
   ]
  },
  {
   "cell_type": "code",
   "execution_count": 21,
   "id": "90ac649d-192c-4eca-a765-439d7b367b14",
   "metadata": {},
   "outputs": [
    {
     "name": "stdout",
     "output_type": "stream",
     "text": [
      "a b c d e f g h i j k l m n o p q r s t u v w x y z "
     ]
    }
   ],
   "source": [
    "\n",
    "for i in \"abcdefghijklmnopqrstuvwxyz\":\n",
    "    print(i,end = ' ')"
   ]
  },
  {
   "cell_type": "markdown",
   "id": "f2b7efcb-1c4c-4253-b0ba-151849ca8be1",
   "metadata": {},
   "source": [
    "# 4. Write a program to print all even numbers between 1 to 100."
   ]
  },
  {
   "cell_type": "code",
   "execution_count": 31,
   "id": "8491256f-86ae-44e8-b73e-56c8426fa262",
   "metadata": {},
   "outputs": [
    {
     "name": "stdout",
     "output_type": "stream",
     "text": [
      "even numbers 2\n",
      "even numbers 4\n",
      "even numbers 6\n",
      "even numbers 8\n",
      "even numbers 10\n",
      "even numbers 12\n",
      "even numbers 14\n",
      "even numbers 16\n",
      "even numbers 18\n",
      "even numbers 20\n",
      "even numbers 22\n",
      "even numbers 24\n",
      "even numbers 26\n",
      "even numbers 28\n",
      "even numbers 30\n",
      "even numbers 32\n",
      "even numbers 34\n",
      "even numbers 36\n",
      "even numbers 38\n",
      "even numbers 40\n",
      "even numbers 42\n",
      "even numbers 44\n",
      "even numbers 46\n",
      "even numbers 48\n",
      "even numbers 50\n",
      "even numbers 52\n",
      "even numbers 54\n",
      "even numbers 56\n",
      "even numbers 58\n",
      "even numbers 60\n",
      "even numbers 62\n",
      "even numbers 64\n",
      "even numbers 66\n",
      "even numbers 68\n",
      "even numbers 70\n",
      "even numbers 72\n",
      "even numbers 74\n",
      "even numbers 76\n",
      "even numbers 78\n",
      "even numbers 80\n",
      "even numbers 82\n",
      "even numbers 84\n",
      "even numbers 86\n",
      "even numbers 88\n",
      "even numbers 90\n",
      "even numbers 92\n",
      "even numbers 94\n",
      "even numbers 96\n",
      "even numbers 98\n"
     ]
    }
   ],
   "source": [
    "for num in range(1,100):\n",
    "    if(num%2==0):\n",
    "        print(\"even numbers\",num)\n",
    "    "
   ]
  },
  {
   "cell_type": "markdown",
   "id": "0a286a5a-5260-4c1d-93bf-3923ebcd6cd0",
   "metadata": {},
   "source": [
    "# 5. Write a program to find the sum of all odd numbers between 1 to n."
   ]
  },
  {
   "cell_type": "code",
   "execution_count": 45,
   "id": "08c4bdaf-fcad-41cc-8485-3534f30a3571",
   "metadata": {},
   "outputs": [
    {
     "name": "stdout",
     "output_type": "stream",
     "text": [
      "sum of all odd numbers 675\n"
     ]
    }
   ],
   "source": [
    "n = 50\n",
    "for num in range(1,n,1):\n",
    "    \n",
    "    if(num%2==1):\n",
    "        n = n +num\n",
    "print(\"sum of all odd numbers\",n)"
   ]
  },
  {
   "cell_type": "markdown",
   "id": "fd74b525-a969-4128-b8fa-913611987a71",
   "metadata": {},
   "source": [
    "# 6. Write a program to count the number of digits in a number."
   ]
  },
  {
   "cell_type": "code",
   "execution_count": 49,
   "id": "c5408fcf-9829-4dd1-94d3-80326b754ab3",
   "metadata": {},
   "outputs": [
    {
     "name": "stdout",
     "output_type": "stream",
     "text": [
      "1 2 3 4 5 6 7 8 9 10 11 12 13 14 15 16 17 18 19 20 21 22 23 24 25 26 27 28 29 30 31 32 33 34 35 36 37 38 39 40 41 42 43 44 45 46 47 48 49 50 51 52 53 54 "
     ]
    }
   ],
   "source": [
    "count = 0\n",
    "for i in range(24,78):\n",
    "    count = count +1\n",
    "    print(count,end = ' ')"
   ]
  },
  {
   "cell_type": "markdown",
   "id": "6d331050-1fb6-474a-9658-036715f86b70",
   "metadata": {},
   "source": [
    "# 7. Write a program to calculate the sum of digits of a number."
   ]
  },
  {
   "cell_type": "code",
   "execution_count": 69,
   "id": "260d2041-f874-405d-8e19-3b2a9dc4da3e",
   "metadata": {},
   "outputs": [
    {
     "name": "stdin",
     "output_type": "stream",
     "text": [
      "Enter the number 123\n"
     ]
    },
    {
     "name": "stdout",
     "output_type": "stream",
     "text": [
      "sum of all the digits 6\n"
     ]
    }
   ],
   "source": [
    "var = input(\"Enter the number\")\n",
    "a = 0\n",
    "for num in var:\n",
    "    a = a + int(num)\n",
    "print(\"sum of all the digits\",a)"
   ]
  },
  {
   "cell_type": "markdown",
   "id": "0a537d65-66fe-4b06-9011-cefbba8b7af4",
   "metadata": {},
   "source": [
    "# 8. Write a program to find the first and last digit of a number."
   ]
  },
  {
   "cell_type": "code",
   "execution_count": 35,
   "id": "b40119fd-8b35-42b2-9605-689110dee207",
   "metadata": {},
   "outputs": [
    {
     "name": "stdin",
     "output_type": "stream",
     "text": [
      "enter your number : 6789\n"
     ]
    },
    {
     "name": "stdout",
     "output_type": "stream",
     "text": [
      "first value :6 and last value9\n"
     ]
    }
   ],
   "source": [
    "n=int(input(\"enter your number :\"))\n",
    "rem=0\n",
    "last=n%10\n",
    "for i in range(n,0,-1):\n",
    "    if(i==n):\n",
    "        rem=n%10\n",
    "        n=n//10\n",
    "print(f\"first value :{rem} and last value{last}\")"
   ]
  },
  {
   "cell_type": "markdown",
   "id": "d604ab11-aa28-4d1d-b9a5-74dd424e14c4",
   "metadata": {},
   "source": [
    "# 9. Write a program to find the sum of first and last digit of a number."
   ]
  },
  {
   "cell_type": "code",
   "execution_count": 39,
   "id": "878fce3b-42e6-4612-ba4a-0d7abf4de961",
   "metadata": {},
   "outputs": [
    {
     "name": "stdin",
     "output_type": "stream",
     "text": [
      "enter your number: 2345\n"
     ]
    },
    {
     "name": "stdout",
     "output_type": "stream",
     "text": [
      "sum of first and last digit: 7\n"
     ]
    }
   ],
   "source": [
    "n = int(input(\"enter your number:\"))\n",
    "rem = 0\n",
    "last = n%10\n",
    "sum = 0\n",
    "for i in range(n,0,-1):\n",
    "    if(i==n):\n",
    "        rem=n%10\n",
    "        n=n//10\n",
    "        sum = last + rem\n",
    "print(\"sum of first and last digit:\",sum)"
   ]
  },
  {
   "cell_type": "markdown",
   "id": "f206b7a5-0936-4cf5-bd61-7253a6f66d97",
   "metadata": {},
   "source": [
    "# 10.Write a program to enter a number and print its reverse."
   ]
  },
  {
   "cell_type": "code",
   "execution_count": 44,
   "id": "67b28503-0a39-4009-8d4f-d5361f4f3230",
   "metadata": {},
   "outputs": [
    {
     "name": "stdin",
     "output_type": "stream",
     "text": [
      "enter your number : 4567\n"
     ]
    },
    {
     "name": "stdout",
     "output_type": "stream",
     "text": [
      "7654\n"
     ]
    }
   ],
   "source": [
    "n=int(input(\"enter your number :\"))\n",
    "sum=0\n",
    "rem=0\n",
    "for i in range(n,0,-1):\n",
    "    if(i==n):\n",
    "        rem=n%10\n",
    "        sum=sum*10+rem\n",
    "        n=n//10\n",
    "print(sum)"
   ]
  },
  {
   "cell_type": "code",
   "execution_count": null,
   "id": "9b725697-7995-4170-ae6c-d1332b7aae99",
   "metadata": {},
   "outputs": [],
   "source": []
  },
  {
   "cell_type": "code",
   "execution_count": null,
   "id": "ee18a640-1644-4700-bca8-cd9d0237e898",
   "metadata": {},
   "outputs": [],
   "source": []
  }
 ],
 "metadata": {
  "kernelspec": {
   "display_name": "Python 3 (ipykernel)",
   "language": "python",
   "name": "python3"
  },
  "language_info": {
   "codemirror_mode": {
    "name": "ipython",
    "version": 3
   },
   "file_extension": ".py",
   "mimetype": "text/x-python",
   "name": "python",
   "nbconvert_exporter": "python",
   "pygments_lexer": "ipython3",
   "version": "3.12.4"
  }
 },
 "nbformat": 4,
 "nbformat_minor": 5
}
