{
 "cells": [
  {
   "cell_type": "markdown",
   "id": "3f0a26bb-cf48-406e-8a76-dbe1afce69a0",
   "metadata": {},
   "source": [
    "# Q11 Write a program that calculates the discount for a product based on its price:\r\n",
    "If price is greater than 1000, discount is 10%\r\n",
    "If price is between 500 and 1000, discount is 5%\r\n",
    "Otherwise, no discount\r\n",
    "Print the final price after applying the discount."
   ]
  },
  {
   "cell_type": "code",
   "execution_count": 7,
   "id": "df308cf4-3727-483e-9e8c-875aa34fb1f9",
   "metadata": {},
   "outputs": [
    {
     "name": "stdin",
     "output_type": "stream",
     "text": [
      "enter the product price 10000\n"
     ]
    },
    {
     "name": "stdout",
     "output_type": "stream",
     "text": [
      "enter the final price 9000.0\n"
     ]
    }
   ],
   "source": [
    "price = float(input(\"enter the product price\"))\n",
    "\n",
    "if(price>1000):\n",
    "    discount = price * 0.10\n",
    "elif(price<=500 and price<=1000):\n",
    "    discount = price * 0.05\n",
    "else:\n",
    "    discount = 0\n",
    "final_price = price - discount\n",
    "\n",
    "print(\"enter the final price\",final_price)"
   ]
  },
  {
   "cell_type": "markdown",
   "id": "477e88f6-2ee0-4e22-8536-a3565ecd4432",
   "metadata": {},
   "source": [
    "# Q12 Write a program that takes the name of a month as input and prints the number of days in that\r",
    "#     month. Consider leap years for February."
   ]
  },
  {
   "cell_type": "code",
   "execution_count": 37,
   "id": "6350023b-9a02-44c3-90f7-5ca8405f3792",
   "metadata": {},
   "outputs": [
    {
     "name": "stdin",
     "output_type": "stream",
     "text": [
      "enter the month: june\n",
      "enter the year: 2045\n"
     ]
    },
    {
     "name": "stdout",
     "output_type": "stream",
     "text": [
      "30 days\n"
     ]
    }
   ],
   "source": [
    "month = input(\"enter the month:\")\n",
    "year = int(input(\"enter the year:\"))\n",
    "if(month == \"jan\" or month == \"march\" or month == \"may\" or month == \"july\" or month ==\"aug\" or month == \"oct\" or month ==\"dec\"):\n",
    "    print(\"31 days\")\n",
    "elif(month ==\"april\" or month ==\"june\" or month ==\"sept\" or month == \"nov\"):\n",
    "    print(\"30 days\")\n",
    "elif(month == \"feb\"):\n",
    "    if(year%4==0 and year% 100!=0) or (year % 400 ==0):\n",
    "        print(\"29 days\")\n",
    "    else:\n",
    "        print(\"28 days\")\n",
    "else:\n",
    "    print(\"invalid month\")\n",
    "        \n",
    "\n",
    "\n"
   ]
  },
  {
   "cell_type": "markdown",
   "id": "348e7109-6571-4c8c-addd-35720943a640",
   "metadata": {},
   "source": [
    "# Q13 Write a program that simulates a simple ATM. The user should be able to:\r\n",
    "Check balance\r\n",
    "Deposit money\r\n",
    "Withdraw money (ensure the balance doesn't go negati.\n",
    "e) Use an if-else structure to handle the use com\r\n",
    "\r\n",
    "choices."
   ]
  },
  {
   "cell_type": "code",
   "execution_count": 69,
   "id": "f9db8432-432f-458e-8d8e-db59cc6b3dcd",
   "metadata": {},
   "outputs": [
    {
     "name": "stdout",
     "output_type": "stream",
     "text": [
      "Welcome to the ATM:\n",
      "1,check balance\n",
      "2,Deposit money\n",
      "3,Withdraw money\n"
     ]
    },
    {
     "name": "stdin",
     "output_type": "stream",
     "text": [
      "enter the choice (1/2/3) 2\n",
      "Deposit the money 200000\n"
     ]
    },
    {
     "name": "stdout",
     "output_type": "stream",
     "text": [
      "your new balance is 210000\n"
     ]
    }
   ],
   "source": [
    "balance = 10000\n",
    "print(\"Welcome to the ATM:\")\n",
    "print(\"1,check balance\")\n",
    "print(\"2,Deposit money\")\n",
    "print(\"3,Withdraw money\")\n",
    "\n",
    "choice = int(input(\"enter the choice (1/2/3)\"))\n",
    "\n",
    "if(choice == 1):\n",
    "    print(\"your current balance is\",balance)\n",
    "\n",
    "elif (choice == 2):\n",
    "    deposit = int(input(\"Deposit the money\"))\n",
    "    balance = balance + deposit\n",
    "    print(\"your new balance is\",balance)\n",
    "\n",
    "elif (choice == 3):\n",
    "    withdraw = int(input(\"withdraw the money\"))\n",
    "    if (withdraw > balance):\n",
    "        print(\"insufficent balance\")\n",
    "    else:\n",
    "        withdraw = balance - withdraw\n",
    "        print(\"withdraw successfully your new balance is\",withdraw)\n",
    "\n",
    "else:\n",
    "    print(\"invalid choice\")\n",
    "    \n",
    "    "
   ]
  },
  {
   "cell_type": "markdown",
   "id": "e03a9de2-f86b-4d50-933e-dbd8b2455470",
   "metadata": {},
   "source": [
    "# Q14 Write a program that categorizes a given age into different groups:\r\n",
    "Infant (0-1 year)\r\n",
    "Toddler (2-4 years)\r\n",
    "Child (5-12 years)\r\n",
    "Teenager (13-19 years)\r\n",
    "Adult (20-59 years)\r\n",
    "Senior (60 years and above)"
   ]
  },
  {
   "cell_type": "code",
   "execution_count": 85,
   "id": "e8d9dc41-37e3-424a-9a45-a9c6e52787be",
   "metadata": {},
   "outputs": [
    {
     "name": "stdin",
     "output_type": "stream",
     "text": [
      "Enter the age: 3\n"
     ]
    },
    {
     "name": "stdout",
     "output_type": "stream",
     "text": [
      "toddler\n"
     ]
    }
   ],
   "source": [
    "age = int(input(\"Enter the age:\"))\n",
    "\n",
    "if (age<=1):\n",
    "    print(\"infant\")\n",
    "elif(age <= 4):\n",
    "    print(\"toddler\")\n",
    "elif(age <= 12):\n",
    "    print(\"child\")\n",
    "\n",
    "elif(age <= 19):\n",
    "    print(\"Teenager\")\n",
    "\n",
    "elif(age <= 59):\n",
    "    print(\"adult\")\n",
    "\n",
    "elif(age > 60):\n",
    "    print(\"Seniour\")\n",
    "\n",
    "else:\n",
    "    print(\"invalid number\")\n",
    "\n"
   ]
  },
  {
   "cell_type": "markdown",
   "id": "fde5f23b-93f0-45d3-812f-88862cf4217e",
   "metadata": {},
   "source": [
    "# Q15 Write a program that takes an integer (1-7) as input and prints the corresponding day of the week (1\r",
    "#     for Monday, 2 for Tuesday, etc.)."
   ]
  },
  {
   "cell_type": "code",
   "execution_count": 91,
   "id": "ffb0c35d-7fc9-4279-a573-5daf57dd9efc",
   "metadata": {},
   "outputs": [
    {
     "name": "stdin",
     "output_type": "stream",
     "text": [
      "take the input between 1 to 7: 7\n"
     ]
    },
    {
     "name": "stdout",
     "output_type": "stream",
     "text": [
      "sunday\n"
     ]
    }
   ],
   "source": [
    "var = int(input(\"take the input between 1 to 7:\"))\n",
    "\n",
    "if (var == 1):\n",
    "    print(\"Monday\")\n",
    "\n",
    "elif(var == 2):\n",
    "    print(\"tuesday\")\n",
    "\n",
    "elif(var ==3):\n",
    "    print(\"wednesday\")\n",
    "\n",
    "elif(var == 4):\n",
    "    print(\"thursday\")\n",
    "\n",
    "elif(var == 5):\n",
    "    print(\"friday\")\n",
    "\n",
    "elif(var == 6):\n",
    "    print(\"saturday\")\n",
    "\n",
    "elif(var == 7):\n",
    "    print(\"sunday\")\n",
    "\n",
    "else:\n",
    "    print(\"invalid number\")\n",
    "\n",
    "\n"
   ]
  },
  {
   "cell_type": "code",
   "execution_count": null,
   "id": "d5121ce0-ffba-4a6e-819c-55dc46c65a8b",
   "metadata": {},
   "outputs": [],
   "source": []
  }
 ],
 "metadata": {
  "kernelspec": {
   "display_name": "Python 3 (ipykernel)",
   "language": "python",
   "name": "python3"
  },
  "language_info": {
   "codemirror_mode": {
    "name": "ipython",
    "version": 3
   },
   "file_extension": ".py",
   "mimetype": "text/x-python",
   "name": "python",
   "nbconvert_exporter": "python",
   "pygments_lexer": "ipython3",
   "version": "3.12.4"
  }
 },
 "nbformat": 4,
 "nbformat_minor": 5
}
